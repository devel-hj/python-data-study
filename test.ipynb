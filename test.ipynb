{
 "cells": [
  {
   "cell_type": "markdown",
   "id": "2ed78571-a811-4b17-b7ae-86d36163b193",
   "metadata": {},
   "source": [
    "## 제목\n",
    "### 제목2\n",
    "마크다운이란? html과 비슷하게 텍스트를 작성하는 언어\n",
    "#* 기호로 제목이나 목록을 작성할 수 있다"
   ]
  },
  {
   "cell_type": "code",
   "execution_count": 4,
   "id": "9a4be596-737b-44cd-898d-d9ccf8521004",
   "metadata": {},
   "outputs": [
    {
     "data": {
      "text/plain": [
       "5"
      ]
     },
     "execution_count": 4,
     "metadata": {},
     "output_type": "execute_result"
    }
   ],
   "source": [
    "# 실행 shift + enter\n",
    "# 셀 추가: b\n",
    "a = 5\n",
    "a"
   ]
  },
  {
   "cell_type": "code",
   "execution_count": 5,
   "id": "75f3d365-5595-45f6-a96d-6509714bf1ef",
   "metadata": {},
   "outputs": [],
   "source": [
    "var1 = 10\n",
    "var2 = 20\n"
   ]
  },
  {
   "cell_type": "code",
   "execution_count": 6,
   "id": "72e86964-7509-46c8-b287-f79dff56adfe",
   "metadata": {},
   "outputs": [
    {
     "data": {
      "text/plain": [
       "10"
      ]
     },
     "execution_count": 6,
     "metadata": {},
     "output_type": "execute_result"
    }
   ],
   "source": [
    "var1"
   ]
  },
  {
   "cell_type": "code",
   "execution_count": null,
   "id": "3ae2d2e2-ef75-46c7-ac99-cd0a4bb48953",
   "metadata": {},
   "outputs": [],
   "source": []
  }
 ],
 "metadata": {
  "kernelspec": {
   "display_name": "Python 3 (ipykernel)",
   "language": "python",
   "name": "python3"
  },
  "language_info": {
   "codemirror_mode": {
    "name": "ipython",
    "version": 3
   },
   "file_extension": ".py",
   "mimetype": "text/x-python",
   "name": "python",
   "nbconvert_exporter": "python",
   "pygments_lexer": "ipython3",
   "version": "3.10.18"
  }
 },
 "nbformat": 4,
 "nbformat_minor": 5
}
