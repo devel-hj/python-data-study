{
 "cells": [
  {
   "cell_type": "markdown",
   "id": "00b04fa4-3665-4280-88ba-2d15ec74cf1e",
   "metadata": {},
   "source": [
    "## 3. 넘파이\n",
    "넘파이란? 다차원배열과 수학 함수를 제공하는 모듈(라이브러리)  \n",
    "모듈이란? 필요한 기능을 미리 만들어두고 가져다 쓰는것"
   ]
  },
  {
   "cell_type": "markdown",
   "id": "c46466cb-4e6f-4cf1-a784-8f1ac27e4a50",
   "metadata": {},
   "source": [
    "3.1 ndarry  \n",
    "다차원 배열  \n",
    "다차원 배열의 특징:  \n",
    "1. 리스트와 비교했을때 계산 속도가 빠름\n",
    "2. 리스트와 달리 모든 요소의 타입이 같음"
   ]
  },
  {
   "cell_type": "code",
   "execution_count": 166,
   "id": "bc582d0b-30a8-4db5-9bc5-ca58366e7a6c",
   "metadata": {},
   "outputs": [],
   "source": [
    "# 먼저 numpy 모듈 가져오기\n",
    "# 외부에 있는 모듈 파일을 가지고 올때는 import  \n",
    "# 모듈의 이름이 길때는 별칭 붙이기 as np\n",
    "import numpy as np"
   ]
  },
  {
   "cell_type": "code",
   "execution_count": 167,
   "id": "280d8d68-58d7-42ca-87d7-5da13ca31987",
   "metadata": {},
   "outputs": [
    {
     "data": {
      "text/plain": [
       "array(['a', 'b', 'c'], dtype='<U1')"
      ]
     },
     "execution_count": 167,
     "metadata": {},
     "output_type": "execute_result"
    }
   ],
   "source": [
    "# 넘파이 배열 만들기  \n",
    "# 입력값: 리스트\n",
    "# 결과: 넘파이 배열\n",
    "a = np.array([1,2,3])\n",
    "a\n",
    "b = np.array(['a','b','c'])\n",
    "b"
   ]
  },
  {
   "cell_type": "markdown",
   "id": "d077601a-dc73-4fdb-b34c-ec49e2fa340f",
   "metadata": {},
   "source": [
    "2차원 배열 생성  "
   ]
  },
  {
   "cell_type": "code",
   "execution_count": 168,
   "id": "05177d57-a162-447d-b07a-389d02a13bcb",
   "metadata": {},
   "outputs": [
    {
     "data": {
      "text/plain": [
       "array([[1, 2, 3],\n",
       "       [4, 5, 6],\n",
       "       [7, 8, 9]])"
      ]
     },
     "execution_count": 168,
     "metadata": {},
     "output_type": "execute_result"
    }
   ],
   "source": [
    "# 2차원 배열 생성  \n",
    "# 2차원 배열은 1차원 배열의 묶음\n",
    "c = np.array([[1,2,3],[4,5,6]])\n",
    "c\n",
    "# 3행 3열 크기의 2차원 배열 생성\n",
    "d = np.array([[1,2,3],[4,5,6], [7,8,9]])\n",
    "d"
   ]
  },
  {
   "cell_type": "code",
   "execution_count": 169,
   "id": "07eb3945-278f-4fb2-8ded-d8b83509a3de",
   "metadata": {},
   "outputs": [
    {
     "data": {
      "text/plain": [
       "array([1, 3, 5, 7, 9])"
      ]
     },
     "execution_count": 169,
     "metadata": {},
     "output_type": "execute_result"
    }
   ],
   "source": [
    "# 주석 단축키 : ctrl + /\n",
    "# arrange : 숫자 여러개를 생성하는 함수\n",
    "# 연속된 숫자 10개를 생성\n",
    "# 개수만 넣으면 0부터 시작됨\n",
    "a = np.arange(10)\n",
    "# 1부터 10까지 생성\n",
    "# 범위(시작, 끝)\n",
    "b = np.arange(1,10)\n",
    "# 1부터 10까지 2씩 건너뛰면서 생성\n",
    "c = np.arange(1,11,2)\n",
    "c"
   ]
  },
  {
   "cell_type": "markdown",
   "id": "f71ac79a-22e3-43b1-b3e8-9aeb54740d38",
   "metadata": {},
   "source": [
    "## 연습문제1"
   ]
  },
  {
   "cell_type": "code",
   "execution_count": 170,
   "id": "4bbc9c14-b056-48a7-9411-cb24e3b848c9",
   "metadata": {},
   "outputs": [
    {
     "name": "stdout",
     "output_type": "stream",
     "text": [
      "[85 90 78 92 88]\n",
      "[160 165 170 175 180]\n",
      "[1200 1500 1800 2100]\n",
      "[20 22 19 25 30]\n"
     ]
    }
   ],
   "source": [
    "# 문제 1\n",
    "# 파이썬 리스트 scores = [85, 90, 78, 92, 88]를 넘파이 배열로 변환하여 출력하세요\n",
    "arr_scores = np.array([85, 90, 78, 92, 88])\n",
    "print(arr_scores)\n",
    "\n",
    "# 문제 2\n",
    "# 리스트 heights = [160, 165, 170, 175, 180] 를 넘파이 배열로 변환하여 출력하세요\n",
    "arr_heights = np.array([160, 165, 170, 175, 180])\n",
    "print(arr_heights)\n",
    "\n",
    "# 문제 3\n",
    "# 리스트 prices = [1200, 1500, 1800, 2100] 넘파이 배열로 변환하여 출력하세요\n",
    "arr_prices = np.array([1200, 1500, 1800, 2100])\n",
    "print(arr_prices)\n",
    "\n",
    "# 문제 4\n",
    "# 리스트 temps = [20, 22, 19, 25, 30] 넘파이 배열로 변환하여 출력하세요\n",
    "arr_temps = np.array([20, 22, 19, 25, 30])\n",
    "print(arr_temps)"
   ]
  },
  {
   "cell_type": "code",
   "execution_count": 171,
   "id": "f7b03608-60c9-4e8a-9106-720a55c33f8e",
   "metadata": {},
   "outputs": [
    {
     "name": "stdout",
     "output_type": "stream",
     "text": [
      "[0 1 2 3 4]\n",
      "[0 1 2 3 4 5 6 7 8 9]\n",
      "[3 4 5 6 7]\n",
      "[-2 -1  0  1  2]\n"
     ]
    }
   ],
   "source": [
    "# 문제 1\n",
    "# 0부터 4까지 숫자를 원소로 가지는 배열을 생성하세요.\n",
    "# arange는 파이선의 range 함수와 비슷\n",
    "# arange의 반환값: 배열\n",
    "arr1 = np.arange(5)\n",
    "print(arr1)\n",
    "\n",
    "# 문제 2\n",
    "# 0부터 9까지 숫자를 원소로 가지는 배열을 생성하세요.\n",
    "arr2 = np.arange(10)\n",
    "print(arr2)\n",
    "\n",
    "# 문제 3\n",
    "# 3부터 7까지 숫자를 원소로 가지는 배열을 생성하세요.\n",
    "arr3 = np.arange(3, 8)\n",
    "print(arr3)\n",
    "\n",
    "# 문제 4\n",
    "# -2부터 2까지 숫자를 원소로 가지는 배열을 생성하세요.\n",
    "arr4 = np.arange(-2, 3)\n",
    "print(arr4)"
   ]
  },
  {
   "cell_type": "markdown",
   "id": "5cfc7af5-9494-41fa-9b6f-d34025670520",
   "metadata": {},
   "source": [
    "## 예제"
   ]
  },
  {
   "cell_type": "code",
   "execution_count": 172,
   "id": "b87dd975-f136-4df9-af9c-c0d88ab83e8a",
   "metadata": {},
   "outputs": [
    {
     "data": {
      "text/plain": [
       "array([[0., 0., 0.],\n",
       "       [0., 0., 0.],\n",
       "       [0., 0., 0.]])"
      ]
     },
     "execution_count": 172,
     "metadata": {},
     "output_type": "execute_result"
    }
   ],
   "source": [
    "# zeros : 배렬을 생성하고 값을 0으로 초기화\n",
    "# 10개 크기의 배열 생성\n",
    "np.zeros(10)\n",
    "# 2차원 배열 생성\n",
    "np.zeros((3,3)) # 행 열"
   ]
  },
  {
   "cell_type": "code",
   "execution_count": 173,
   "id": "f3e2bfc5-c26e-4953-97cb-c01d17f8b445",
   "metadata": {},
   "outputs": [
    {
     "name": "stdout",
     "output_type": "stream",
     "text": [
      "int64\n",
      "1\n",
      "(3,)\n"
     ]
    }
   ],
   "source": [
    "# 3개 크기의 1차원 정수 배열 생성\n",
    "# 파이썬의 리스트와 달리\n",
    "\n",
    "# 1차원 배열 생성\n",
    "a = np.array([1,2,3])\n",
    "# 배열의 정보를 확인\n",
    "print(a.dtype) # 자료형\n",
    "print(a.ndim) # 배열의 차원\n",
    "print(a.shape) # 행열 크기"
   ]
  },
  {
   "cell_type": "code",
   "execution_count": 174,
   "id": "89a01903-54e9-41d8-ad08-8b3c75577c81",
   "metadata": {},
   "outputs": [
    {
     "name": "stdout",
     "output_type": "stream",
     "text": [
      "int64\n",
      "2\n",
      "(2, 3)\n"
     ]
    }
   ],
   "source": [
    "# 2행 3열의 2차원 배열 생성\n",
    "# 행열?\n",
    "b = np.array([[1,2,3], [4,5,6]])\n",
    "print(b.dtype)\n",
    "print(b.ndim)\n",
    "print(b.shape)"
   ]
  },
  {
   "cell_type": "code",
   "execution_count": 175,
   "id": "09ad075a-a66b-4d59-9e64-757cc76855a4",
   "metadata": {},
   "outputs": [
    {
     "data": {
      "text/plain": [
       "array([1, 2, 3], dtype=int32)"
      ]
     },
     "execution_count": 175,
     "metadata": {},
     "output_type": "execute_result"
    }
   ],
   "source": [
    "# 실수형 1차원 배열 생성\n",
    "arr = np.array([1.1, 2.1, 3.1])\n",
    "# 자료형확인\n",
    "arr.dtype\n",
    "# 배열의 형변환\n",
    "# float -> int\n",
    "arr2 = arr.astype(np.int32)\n",
    "arr2"
   ]
  },
  {
   "cell_type": "code",
   "execution_count": 176,
   "id": "79781ab0-2c78-41f2-afa2-7a951e2dc244",
   "metadata": {},
   "outputs": [
    {
     "name": "stdout",
     "output_type": "stream",
     "text": [
      "4\n",
      "5\n",
      "6\n"
     ]
    }
   ],
   "source": [
    "# 파이썬의 리스트 생성\n",
    "lis = [1,2,3]\n",
    "# 파이썬의 각 원소에 3씩 더하기\n",
    "# 리스트의 원소에 하나씩 계산하려면 for 반복문을 사용\n",
    "for i in lis:\n",
    "    print(i + 3)"
   ]
  },
  {
   "cell_type": "code",
   "execution_count": 177,
   "id": "3e619227-35d6-4d1c-a1d9-dd647914e8a2",
   "metadata": {},
   "outputs": [
    {
     "data": {
      "text/plain": [
       "array([4, 5, 6])"
      ]
     },
     "execution_count": 177,
     "metadata": {},
     "output_type": "execute_result"
    }
   ],
   "source": [
    "# 넘파이 배열 생성\n",
    "# 넘파이 배열은 for문 없이 각 우너소에 값을 계산할 수 있다!\n",
    "# 넘파이 배열을 자동으로 각 원소에 반복 수행이 된다\n",
    "a = np.array([1,2,3])\n",
    "# 각 원소에 3씩 더하기\n",
    "a + 3"
   ]
  },
  {
   "cell_type": "code",
   "execution_count": 178,
   "id": "2f89da86-5ed9-4114-9843-f6c47b37b544",
   "metadata": {},
   "outputs": [
    {
     "data": {
      "text/plain": [
       "array([False, False, False])"
      ]
     },
     "execution_count": 178,
     "metadata": {},
     "output_type": "execute_result"
    }
   ],
   "source": [
    "a = np.array([1,2,3])\n",
    "b = np.array([4,5,6])\n",
    "\n",
    "# 배열 두개를 비교\n",
    "a > b"
   ]
  },
  {
   "cell_type": "markdown",
   "id": "1ae09382-cfdc-454b-bfff-ca23fcf49818",
   "metadata": {},
   "source": [
    "인덱스와 슬라이스"
   ]
  },
  {
   "cell_type": "code",
   "execution_count": 179,
   "id": "ef2241ad-faf5-4971-bba2-f9f08d78bd47",
   "metadata": {},
   "outputs": [
    {
     "name": "stdout",
     "output_type": "stream",
     "text": [
      "[0 1 2 3 4 5 6 7 8 9]\n"
     ]
    },
    {
     "data": {
      "text/plain": [
       "array([ 0, 99,  2, 88, 88, 88,  6,  7,  8,  9])"
      ]
     },
     "execution_count": 179,
     "metadata": {},
     "output_type": "execute_result"
    }
   ],
   "source": [
    "# 1차원 배열 생성\n",
    "# 0~9 숫자 만들고 1차원 배열 생성\n",
    "a = np.arange(10)\n",
    "print(a)\n",
    "# 배열의 원소 하나 꺼내기\n",
    "a[1]\n",
    "# 번위로 값 꺼내기 (슬라이스)\n",
    "a[3:6]\n",
    "# 원소 값 변경하기\n",
    "# 두번쨰 원소의 값 변경하기\n",
    "a[1] = 99\n",
    "a\n",
    "# 특정 범위에 있는 값을 모두 변경하기\n",
    "# 3,4,5 번째 데이터 변경\n",
    "a[3:6] = 88\n",
    "a"
   ]
  },
  {
   "cell_type": "code",
   "execution_count": 180,
   "id": "3ebef323-6716-43be-a34f-7e0e8f25c3fb",
   "metadata": {},
   "outputs": [
    {
     "data": {
      "text/plain": [
       "array([ 0, 99,  2, 88, 88, 88,  6,  7,  8,  9])"
      ]
     },
     "execution_count": 180,
     "metadata": {},
     "output_type": "execute_result"
    }
   ],
   "source": [
    "# 배열 전체 선택\n",
    "# a를 출력하는 것과 같다\n",
    "a[:]"
   ]
  },
  {
   "cell_type": "markdown",
   "id": "2b092032-43d1-473e-813b-9d9bf3703596",
   "metadata": {},
   "source": [
    "## 연습문제 2"
   ]
  },
  {
   "cell_type": "code",
   "execution_count": 181,
   "id": "666109b4-3a9c-4176-bcc5-15562129c413",
   "metadata": {},
   "outputs": [
    {
     "name": "stdout",
     "output_type": "stream",
     "text": [
      "10\n",
      "30\n",
      "50\n",
      "[ 10 200  30  40  50]\n",
      "[ 10 200  30 999  50]\n"
     ]
    }
   ],
   "source": [
    "arr = np.array([10, 20, 30, 40, 50])\n",
    "\n",
    "# 배열의 첫 번째 값을 꺼내서 출력하세요 # 결과: 10\n",
    "print(arr[0])\n",
    "# 배열의 세 번째 값을 꺼내서 출력하세요 # 결과: 30\n",
    "print(arr[2])\n",
    "# 배열의 마지막 값을 꺼내서 출력하세요 # 결과: 50\n",
    "print(arr[-1])\n",
    "\n",
    "# 배열의 두번째 값을 200으로 바꾸세요\n",
    "arr[1] = 200\n",
    "print(arr)\n",
    "# 결과: [10 200 30 40 50]\n",
    "\n",
    "# 배열의 네 번째 값을 999로 바꾸세요\n",
    "arr[3] = 999\n",
    "print(arr)\n",
    "# 결과: [10 200 30 999 50]"
   ]
  },
  {
   "cell_type": "code",
   "execution_count": 182,
   "id": "0b81f057-45dd-4ac8-aad5-1f418af17cfc",
   "metadata": {},
   "outputs": [
    {
     "name": "stdout",
     "output_type": "stream",
     "text": [
      "나\n",
      "라\n",
      "마\n",
      "['하' '나' '다' '라' '마']\n",
      "['하' '나' '호' '라' '마']\n"
     ]
    }
   ],
   "source": [
    "arr = np.array(['가','나','다','라','마'])\n",
    "\n",
    "# 배열의 두 번째 값을 꺼내서 출력하세요 # 결과: 나\n",
    "print(arr[1])\n",
    "# 배열의 네 번째 값을 꺼내서 출력하세요 # 결과: 라\n",
    "print(arr[3])\n",
    "# 배열의 마지막 값을 꺼내서 출력하세요 # 결과: 마\n",
    "print(arr[-1])\n",
    "\n",
    "# 배열의 첫번째 값을 '하'로 바꾸세요\n",
    "# 결과: ['하','나','다','라','마']\n",
    "arr[0] = '하'\n",
    "print(arr)\n",
    "\n",
    "# 배열의 세번째 값을 '호'로 바꾸세요\n",
    "# 결과: ['하','나','호','라','마']\n",
    "arr[2] = '호'\n",
    "print(arr)"
   ]
  },
  {
   "cell_type": "code",
   "execution_count": 183,
   "id": "3f7d6925-865e-4b08-97ad-686c389f48c3",
   "metadata": {},
   "outputs": [
    {
     "name": "stdout",
     "output_type": "stream",
     "text": [
      "[10 20 30]\n",
      "[40 50 60 70]\n",
      "[20 30 40 50]\n"
     ]
    }
   ],
   "source": [
    "arr = np.array([10, 20, 30, 40, 50, 60, 70])\n",
    "\n",
    "# 배열의 처음 3개 값을 꺼내서 출력하세요\n",
    "# 결과 : [10 20 30]\n",
    "print(arr[:3])\n",
    "# 배열의 네 번쨰부터 끝까지 값을 꺼내서 출력하세요\n",
    "# 결과: [40 50 60 70]\n",
    "print(arr[3:])\n",
    "# 배열의 두 번째부터 다섯 번째까지 값을 꺼내서 출력하세요\n",
    "# 결과: [20 30 40 50]\n",
    "print(arr[1:5])"
   ]
  },
  {
   "cell_type": "code",
   "execution_count": 184,
   "id": "9c33cd48-0d98-4877-b2e5-45bc4d7998ef",
   "metadata": {},
   "outputs": [
    {
     "name": "stdout",
     "output_type": "stream",
     "text": [
      "['a' 'b' 'c']\n",
      "['d' 'e' 'f' 'g']\n",
      "['b' 'c' 'd' 'e']\n"
     ]
    }
   ],
   "source": [
    "arr = np.array(['a','b','c','d','e','f','g'])\n",
    "\n",
    "# 배열의 처음 3개 값을 꺼내서 출력하세요\n",
    "# 결과 : ['a' 'b' 'c']\n",
    "print(arr[:3])\n",
    "# 배열의 네 번쨰부터 끝까지 값을 꺼내서 출력하세요\n",
    "# 결과: ['d' 'e' 'f' 'g']\n",
    "print(arr[3:])\n",
    "# 배열의 두 번째부터 다섯 번째까지 값을 꺼내서 출력하세요\n",
    "# 결과: ['b' 'c' 'd' 'e']\n",
    "print(arr[1:5])"
   ]
  },
  {
   "cell_type": "markdown",
   "id": "48668af4-23b8-4f64-8eff-cfac96febf00",
   "metadata": {},
   "source": [
    "## 2차원 배열의 인덱싱"
   ]
  },
  {
   "cell_type": "code",
   "execution_count": 185,
   "id": "df4a8496-2903-4df8-8de3-95ec3cd0df8f",
   "metadata": {},
   "outputs": [
    {
     "name": "stdout",
     "output_type": "stream",
     "text": [
      "[[1 2 3]\n",
      " [4 5 6]\n",
      " [7 8 9]]\n"
     ]
    }
   ],
   "source": [
    "# 3행 3열 2차원 배열 생성\n",
    "arr = np.array([[1,2,3], [4,5,6,], [7,8,9]])\n",
    "print(arr)"
   ]
  },
  {
   "cell_type": "code",
   "execution_count": 186,
   "id": "eb1262d7-1297-493d-8832-626950f66b40",
   "metadata": {},
   "outputs": [
    {
     "data": {
      "text/plain": [
       "array([1, 2, 3])"
      ]
     },
     "execution_count": 186,
     "metadata": {},
     "output_type": "execute_result"
    }
   ],
   "source": [
    "# 2차원 배열의 인덱스\n",
    "# 행(인덱스)\n",
    "# 열(컬럼)\n",
    "# 첫번째 행 꺼내기\n",
    "arr[0]"
   ]
  },
  {
   "cell_type": "code",
   "execution_count": 187,
   "id": "28cbf638-a47d-480a-8924-a63ba516ca55",
   "metadata": {},
   "outputs": [
    {
     "data": {
      "text/plain": [
       "np.int64(5)"
      ]
     },
     "execution_count": 187,
     "metadata": {},
     "output_type": "execute_result"
    }
   ],
   "source": [
    "# 1 꺼내기\n",
    "arr[0][0]\n",
    "# 9 꺼내기\n",
    "arr[2][2]\n",
    "# 5 꺼내기\n",
    "arr[1][1]\n",
    "arr[1,1]"
   ]
  },
  {
   "cell_type": "code",
   "execution_count": 188,
   "id": "e7e26258-cd27-470e-a35e-8f7b50e5aa4a",
   "metadata": {},
   "outputs": [
    {
     "data": {
      "text/plain": [
       "array([[0, 2, 3],\n",
       "       [4, 0, 6],\n",
       "       [7, 8, 9]])"
      ]
     },
     "execution_count": 188,
     "metadata": {},
     "output_type": "execute_result"
    }
   ],
   "source": [
    "# 배열 원소의 값 바꾸기\n",
    "# 0 -> 1\n",
    "arr[0][0] = 0\n",
    "arr\n",
    "# 5 -> 0\n",
    "arr[1][1]= 0\n",
    "arr"
   ]
  },
  {
   "cell_type": "markdown",
   "id": "bf752d87-1c45-4568-9d41-443decaab59a",
   "metadata": {},
   "source": [
    "## 2차원 배열 슬라이스"
   ]
  },
  {
   "cell_type": "code",
   "execution_count": 189,
   "id": "9102ae5d-5350-4aed-a25d-c665e5885179",
   "metadata": {},
   "outputs": [
    {
     "data": {
      "text/plain": [
       "array([[1, 2, 3],\n",
       "       [4, 5, 6],\n",
       "       [7, 8, 9]])"
      ]
     },
     "execution_count": 189,
     "metadata": {},
     "output_type": "execute_result"
    }
   ],
   "source": [
    "arr = np.array([[1,2,3], [4,5,6,], [7,8,9]])\n",
    "arr"
   ]
  },
  {
   "cell_type": "code",
   "execution_count": 190,
   "id": "1b8d3471-2039-4f8a-85ea-53266d9db2fb",
   "metadata": {},
   "outputs": [
    {
     "data": {
      "text/plain": [
       "array([[1, 2, 3],\n",
       "       [4, 5, 6]])"
      ]
     },
     "execution_count": 190,
     "metadata": {},
     "output_type": "execute_result"
    }
   ],
   "source": [
    "# 행을 기준으로 슬라이스\n",
    "# 처음부터 두번째 행까지\n",
    "arr[:2]"
   ]
  },
  {
   "cell_type": "code",
   "execution_count": 191,
   "id": "3f0d7579-1918-40a4-b473-ae0095f51914",
   "metadata": {},
   "outputs": [
    {
     "data": {
      "text/plain": [
       "array([[5, 6],\n",
       "       [8, 9]])"
      ]
     },
     "execution_count": 191,
     "metadata": {},
     "output_type": "execute_result"
    }
   ],
   "source": [
    "# 행: 1번 2번\n",
    "# 열: 1번 2번\n",
    "arr[1:3, 1:3]"
   ]
  },
  {
   "cell_type": "code",
   "execution_count": 192,
   "id": "b75f3968-732d-4c87-862c-4e532ba0509d",
   "metadata": {},
   "outputs": [
    {
     "data": {
      "text/plain": [
       "array([[1, 2],\n",
       "       [4, 5]])"
      ]
     },
     "execution_count": 192,
     "metadata": {},
     "output_type": "execute_result"
    }
   ],
   "source": [
    "# 행: 0번 1번\n",
    "# 열: 0번 1번\n",
    "arr[ :2, :2]"
   ]
  },
  {
   "cell_type": "code",
   "execution_count": 193,
   "id": "3d5a361b-f6fe-48af-90f4-addce949ede7",
   "metadata": {},
   "outputs": [
    {
     "data": {
      "text/plain": [
       "array([4, 5])"
      ]
     },
     "execution_count": 193,
     "metadata": {},
     "output_type": "execute_result"
    }
   ],
   "source": [
    "# 행: 슬라이스x\n",
    "# 열: 0 1 번\n",
    "arr[ 1, 0:2 ]"
   ]
  },
  {
   "cell_type": "code",
   "execution_count": 194,
   "id": "7ab3a71a-ef08-4602-a41b-093484cc182c",
   "metadata": {},
   "outputs": [
    {
     "name": "stdout",
     "output_type": "stream",
     "text": [
      "20\n",
      "70\n",
      "[40 50 60]\n",
      "[20 50 80]\n",
      "[[ 10  20 300]\n",
      " [ 40  50  60]\n",
      " [ 70  80  90]]\n"
     ]
    }
   ],
   "source": [
    "## 연습문제\n",
    "arr = np.array([\n",
    "    [10, 20, 30],\n",
    "    [40, 50, 60],\n",
    "    [70, 80, 90]\n",
    "])\n",
    "\n",
    "# 첫 번째 행의 두 번째 값을 꺼내서 출력하세요. 결과 : 20\n",
    "print(arr[0, 1])\n",
    "# 세 번째 행의 첫 번째 값을 꺼내서 출력하세요. 결과 : 70\n",
    "print(arr[2, 0])\n",
    "# 두 번째 행 전체를 꺼내서 출력하세요. 결과: [40 50 60]\n",
    "print(arr[1])\n",
    "# 두 번째 열 전체를 꺼내서 출력하세요. 결과: [20 50 80]\n",
    "print(arr[ : ,1])\n",
    "# 첫 번째 행의 세 번째 값을 300으로 변경\n",
    "# [[10 20 300]\n",
    "#     [40 50 60]\n",
    "#     [70 80 90]]\n",
    "arr[0, 2] = 300\n",
    "print(arr)\n",
    "\n",
    "\n"
   ]
  },
  {
   "cell_type": "code",
   "execution_count": 195,
   "id": "0b071818-0d30-4eeb-b164-4f5977eddaf5",
   "metadata": {},
   "outputs": [
    {
     "name": "stdout",
     "output_type": "stream",
     "text": [
      "7\n",
      "13\n",
      "[ 9 10 11 12]\n",
      "[ 4  8 12 16]\n",
      "[[  1   2   3 100]\n",
      " [  5   6   7   8]\n",
      " [  9  10  11  12]\n",
      " [ 13  14  15  16]]\n"
     ]
    }
   ],
   "source": [
    "## 연습문제\n",
    "arr = np.array([\n",
    "    [1, 2, 3, 4],\n",
    "    [5, 6, 7, 8],\n",
    "    [9, 10, 11, 12],\n",
    "    [13, 14, 15, 16]\n",
    "])\n",
    "\n",
    "# 두 번째 행의 세 번째 값을 꺼내서 출력하세요. 결과 : 7\n",
    "print(arr[1, 2])\n",
    "# 네 번째 행의 첫 번째 값을 꺼내서 출력하세요. 결과 : 13\n",
    "print(arr[3, 0])\n",
    "# 세 번째 행 전체를 꺼내서 출력하세요. 결과: [9 10 11 12]\n",
    "print(arr[2])\n",
    "# 네 번째 열 전체를 꺼내서 출력하세요. 결과: [4 8 12 16]\n",
    "print(arr[:, 3])\n",
    "# 첫 번째 행의 네 번째 값을 100으로 변경\n",
    "# [1, 2, 3, 100]\n",
    "arr[0, 3] = 100\n",
    "print(arr)\n"
   ]
  },
  {
   "cell_type": "code",
   "execution_count": 196,
   "id": "9299cef2-455a-476f-8a24-c6ee9bc94ca2",
   "metadata": {},
   "outputs": [
    {
     "name": "stdout",
     "output_type": "stream",
     "text": [
      "[10 20]\n",
      "[[40 50 60]\n",
      " [70 80 90]]\n",
      "[[20 30]\n",
      " [50 60]\n",
      " [80 90]]\n"
     ]
    }
   ],
   "source": [
    "## 연습문제\n",
    "arr = np.array([\n",
    "    [10, 20, 30],\n",
    "    [40, 50, 60],\n",
    "    [70, 80, 90]\n",
    "])\n",
    "\n",
    "# 첫 번째 행의 앞 2개 숫자를 꺼내서 출력. 결과: [10 20]\n",
    "print(arr[0][0:2])\n",
    "# 두 번째 행부터 세번째 행까지 전체를 꺼내서 출력.\n",
    "# [[40 50 60]\n",
    "#  [70 80 90]]\n",
    "print(arr[1:3])\n",
    "#모든 행에서 두번쨰와 세번째 열만 꺼내서 출력.\n",
    "# [[20 30]\n",
    "#  [50 60]\n",
    "#  [80 90]]\n",
    "print(arr[ : ,1:3])"
   ]
  },
  {
   "cell_type": "markdown",
   "id": "e583ff0f-6634-4253-aeca-f7f474573870",
   "metadata": {},
   "source": [
    "## 불리언 인덱스\n",
    "인덱스란? 데이터의 위치"
   ]
  },
  {
   "cell_type": "code",
   "execution_count": 197,
   "id": "f3ed4bf2-6d88-4caa-98b4-26ad6104c0b7",
   "metadata": {},
   "outputs": [],
   "source": [
    "# 학생 배열 생성\n",
    "students = np.array(['철수', '영희', '민수', '철수', '철수'])\n",
    "# 학생들의 대출 이력(책제목, 대출일)\n",
    "books = np.array([\n",
    "    ['수학의 정석',7], ['해리포터',10], ['파이썬 입문',5], ['한국사',5], ['데미안',12]\n",
    "])"
   ]
  },
  {
   "cell_type": "code",
   "execution_count": 198,
   "id": "74057d89-2158-4d4a-aac8-c92e031d2303",
   "metadata": {},
   "outputs": [
    {
     "data": {
      "text/plain": [
       "array([ True, False, False,  True,  True])"
      ]
     },
     "execution_count": 198,
     "metadata": {},
     "output_type": "execute_result"
    }
   ],
   "source": [
    "# 여기서 철수의 대출 이력만 조회하기\n",
    "# 배열 == '비교값'\n",
    "# 배열 전체에 함수를 비교ㄹ\n",
    "# 총 5번 비교하고 bool 배열 반환\n",
    "arr = (students == '철수')\n",
    "arr"
   ]
  },
  {
   "cell_type": "code",
   "execution_count": 199,
   "id": "99d47c3e-c4f3-4ea4-9416-e938915e7a07",
   "metadata": {},
   "outputs": [
    {
     "data": {
      "text/plain": [
       "array([['수학의 정석', '7'],\n",
       "       ['한국사', '5'],\n",
       "       ['데미안', '12']], dtype='<U21')"
      ]
     },
     "execution_count": 199,
     "metadata": {},
     "output_type": "execute_result"
    }
   ],
   "source": [
    "# books 배열의 인덱스에 bool 배열 넣기\n",
    "# true에 해당하는 원소만 반환\n",
    "# 조건에 맞는 원소를 꺼낼때 사용\n",
    "books[students == '철수']"
   ]
  },
  {
   "cell_type": "code",
   "execution_count": 201,
   "id": "6003515b-43a5-49b3-9911-da2d45ae7cac",
   "metadata": {},
   "outputs": [
    {
     "name": "stdout",
     "output_type": "stream",
     "text": [
      "[False  True  True False False]\n"
     ]
    },
    {
     "data": {
      "text/plain": [
       "array([['해리포터', '10'],\n",
       "       ['파이썬 입문', '5']], dtype='<U21')"
      ]
     },
     "execution_count": 201,
     "metadata": {},
     "output_type": "execute_result"
    }
   ],
   "source": [
    "print(students != '철수')\n",
    "# 철수가 아닌 대출 이력 찾기\n",
    "# true에 해당하는 원소만 반환\n",
    "books[ students != '철수' ]"
   ]
  },
  {
   "cell_type": "code",
   "execution_count": 206,
   "id": "8b570a67-861e-4084-b44a-eed763a1b1f0",
   "metadata": {},
   "outputs": [
    {
     "data": {
      "text/plain": [
       "array([['자바의 정석', '7'],\n",
       "       ['해리포터', '10'],\n",
       "       ['파이썬 입문', '5'],\n",
       "       ['한국사', '5'],\n",
       "       ['데미안', '12']], dtype='<U21')"
      ]
     },
     "execution_count": 206,
     "metadata": {},
     "output_type": "execute_result"
    }
   ],
   "source": [
    "# '수학의 정석'을 찾아서 제목을 '자바의 정석'으로 바꾸기\n",
    "books == '수학의 정석'\n",
    "# bool 배열로 원소를 찾고 값 교체\n",
    "books[books == '수학의 정석'] = '자바의 정석'\n",
    "books"
   ]
  },
  {
   "cell_type": "code",
   "execution_count": 209,
   "id": "1d3bf163-894e-48b2-b277-0dbbf67d8f3b",
   "metadata": {},
   "outputs": [
    {
     "data": {
      "text/plain": [
       "array([['자바의 정석', '7'],\n",
       "       ['7', '7'],\n",
       "       ['7', '7'],\n",
       "       ['한국사', '5'],\n",
       "       ['데미안', '12']], dtype='<U21')"
      ]
     },
     "execution_count": 209,
     "metadata": {},
     "output_type": "execute_result"
    }
   ],
   "source": [
    "# 대출 이력 중에서 철수가 아닌 항목을 찾고\n",
    "# 행 전체를 7로 바꾸기\n",
    "students != '철수'\n",
    "\n",
    "books[students != '철수'] = 7\n",
    "books"
   ]
  },
  {
   "cell_type": "code",
   "execution_count": 249,
   "id": "2a1506cd-3986-4e44-912d-16458ca220da",
   "metadata": {},
   "outputs": [],
   "source": [
    "# 연습문제\n",
    "arr = np.array([10,20,30,40,50,60,70])"
   ]
  },
  {
   "cell_type": "code",
   "execution_count": 250,
   "id": "0f944869-67cc-4d6f-8e2d-0b4a607feb1c",
   "metadata": {},
   "outputs": [
    {
     "name": "stdout",
     "output_type": "stream",
     "text": [
      "[10 20 30 40 50 60 70]\n"
     ]
    }
   ],
   "source": [
    "\n",
    "# 배열에서 30보다 큰 값만 꺼내서 출력\n",
    "arr > 30\n",
    "arr[arr > 30]\n",
    "print(arr)"
   ]
  },
  {
   "cell_type": "code",
   "execution_count": 251,
   "id": "4f9ed9cb-317f-4785-b916-03e17a677ea5",
   "metadata": {},
   "outputs": [
    {
     "name": "stdout",
     "output_type": "stream",
     "text": [
      "[10 20 30 40 50 60 70]\n"
     ]
    }
   ],
   "source": [
    "# 배열에서 짝수 값만 꺼내서 출력\n",
    "arr[arr%2==0]\n",
    "print(arr)"
   ]
  },
  {
   "cell_type": "code",
   "execution_count": 252,
   "id": "f23409b0-3f31-4d22-99c6-f9e8c409edca",
   "metadata": {},
   "outputs": [
    {
     "name": "stdout",
     "output_type": "stream",
     "text": [
      "[ 10  20  30  40  50 999 999]\n"
     ]
    }
   ],
   "source": [
    "# 배열에서 50보다 큰 값을 모두 999로 변경\n",
    "arr[arr == 50]\n",
    "arr[arr > 50] = 999\n",
    "print(arr)\n"
   ]
  },
  {
   "cell_type": "markdown",
   "id": "7a013bdd-2909-46bf-8359-7c4855c9d5a2",
   "metadata": {},
   "source": [
    "연습문제 2"
   ]
  },
  {
   "cell_type": "code",
   "execution_count": 264,
   "id": "5df8569e-5e9c-435f-a7c2-ac3cd7c9376e",
   "metadata": {},
   "outputs": [
    {
     "name": "stdout",
     "output_type": "stream",
     "text": [
      "[400]\n",
      "['철수' '맹구']\n",
      "[250 320 280 400 200]\n"
     ]
    }
   ],
   "source": [
    "# 직원 이름 배열\n",
    "employees = np.array(['짱구', '철수', '유리', '맹구', '훈이'])\n",
    "# 직원별 월급(만원단위)\n",
    "salaries = np.array([250, 320, 280, 400, 150])\n",
    "# 직원 이름과 월급은 대응\n",
    "\n",
    "# 맹구의 급여를 조회\n",
    "employees == '맹구'\n",
    "a = salaries[employees == '맹구']\n",
    "print(a)\n",
    "\n",
    "# 급여가 300만원 이상인 직원들의 이름 출력\n",
    "b = employees[salaries >= 300]\n",
    "print(b)\n",
    "# 급여가 200만원 미만인 직원들 급여를 모두 200으로 올리기\n",
    "salaries[salaries < 200] = 200\n",
    "salaries\n",
    "\n",
    "print(salaries)\n"
   ]
  },
  {
   "cell_type": "markdown",
   "id": "ffe43446-1233-4d16-90df-11866992e826",
   "metadata": {},
   "source": [
    "## 3.2 배열의 모양 바꾸기"
   ]
  },
  {
   "cell_type": "code",
   "execution_count": 267,
   "id": "b82b8c81-0e5a-45c4-91bb-c0eaffe9b4c3",
   "metadata": {},
   "outputs": [
    {
     "name": "stdout",
     "output_type": "stream",
     "text": [
      "[1 2 3 4 5 6 7 8 9]\n"
     ]
    },
    {
     "data": {
      "text/plain": [
       "array([[1, 2, 3],\n",
       "       [4, 5, 6],\n",
       "       [7, 8, 9]])"
      ]
     },
     "execution_count": 267,
     "metadata": {},
     "output_type": "execute_result"
    }
   ],
   "source": [
    "# 1~9 숫자가 담긴 1차원 배열 생성\n",
    "# reshape : 배열의 형태를 바꾸는 함수\n",
    "# 1차원 -> 2차원\n",
    "# ㄱ행 3열 크기의 배열로 변환\n",
    "print(np.arange(1,10))\n",
    "arr = np.arange(1,10).reshape(3,3)\n",
    "arr\n",
    "# "
   ]
  },
  {
   "cell_type": "code",
   "execution_count": 269,
   "id": "a9b6fc65-4385-4366-b8c8-786ad2d1a515",
   "metadata": {},
   "outputs": [
    {
     "name": "stdout",
     "output_type": "stream",
     "text": [
      "[ 1  2  3  4  5  6  7  8  9 10 11 12 13 14 15 16]\n"
     ]
    },
    {
     "data": {
      "text/plain": [
       "array([[ 1,  2,  3,  4],\n",
       "       [ 5,  6,  7,  8],\n",
       "       [ 9, 10, 11, 12],\n",
       "       [13, 14, 15, 16]])"
      ]
     },
     "execution_count": 269,
     "metadata": {},
     "output_type": "execute_result"
    }
   ],
   "source": [
    "# 1~16 숫자가 담긴 1차원 배열\n",
    "print(np.arange(1,17))\n",
    "a = np.arange(1,17).reshape(4,4)\n",
    "a"
   ]
  },
  {
   "cell_type": "code",
   "execution_count": 270,
   "id": "fae89fd5-cb6e-4c63-bb3a-5497166d5de0",
   "metadata": {},
   "outputs": [
    {
     "data": {
      "text/plain": [
       "array([[ 1,  2,  3,  4],\n",
       "       [ 5,  6,  7,  8],\n",
       "       [ 9, 10, 11, 12]])"
      ]
     },
     "execution_count": 270,
     "metadata": {},
     "output_type": "execute_result"
    }
   ],
   "source": [
    "# 1~12 1차원 배열\n",
    "# 이배열을 3행 4열 배열로 변환\n",
    "a = np.arange(1,13).reshape(3,4)\n",
    "a\n"
   ]
  },
  {
   "cell_type": "code",
   "execution_count": 284,
   "id": "e4050d7c-abc6-47f7-988b-7f7f446755b4",
   "metadata": {},
   "outputs": [
    {
     "name": "stdout",
     "output_type": "stream",
     "text": [
      "[[ 0  1  2  3]\n",
      " [ 4  5  6  7]\n",
      " [ 8  9 10 11]]\n",
      "[[ 1  2  3  4]\n",
      " [ 5  6  7  8]\n",
      " [ 9 10 11 12]\n",
      " [13 14 15 16]]\n",
      "[[ 1  2  3  4]\n",
      " [ 5  6  7  8]\n",
      " [ 9 10 11 12]\n",
      " [13 14 15 16]\n",
      " [17 18 19 20]]\n",
      "[[10 11 12 13]\n",
      " [14 15 16 17]\n",
      " [18 19 20 21]\n",
      " [22 23 24 25]]\n"
     ]
    }
   ],
   "source": [
    "# 연습문제\n",
    "# 0부터 11까지 숫자를 생성한 뒤, 3행 4열 배열로 바꾸세요\n",
    "a = np.arange(12).reshape(3, 4)\n",
    "print(a)\n",
    "# 1부터 16까지 숫자를 생성한 뒤, 4행 4열 배열로 바꾸세요\n",
    "b = np.arange(1,17).reshape(4, 4)\n",
    "print(b)\n",
    "# 1부터 20까지 숫자를 생성한 뒤, 5행 4열 배열로 바꾸세요\n",
    "c = np.arange(1,21).reshape(5, 4)\n",
    "print(c)\n",
    "# 10부터 25까지 숫자를 생성한 뒤, 4행 4열 배열로 바꾸세요\n",
    "d = np.arange(10,26).reshape(4, 4)\n",
    "print(d)"
   ]
  },
  {
   "cell_type": "markdown",
   "id": "682fb3b0-7962-4af3-9fc2-0c94d1f288e3",
   "metadata": {},
   "source": [
    "## 3.3 난수를 생성하는 방법\n",
    "난수란? 랜덤값"
   ]
  },
  {
   "cell_type": "code",
   "execution_count": 291,
   "id": "7d2be879-264e-4235-a745-2816407119b4",
   "metadata": {},
   "outputs": [
    {
     "data": {
      "text/plain": [
       "array([ 0.64108205, -0.43633616, -0.70147928,  0.02551041,  1.20058196,\n",
       "        1.09608286,  0.15743597, -0.05167588, -0.12354148, -0.43050565])"
      ]
     },
     "execution_count": 291,
     "metadata": {},
     "output_type": "execute_result"
    }
   ],
   "source": [
    "# 랜덤값 만들기\n",
    "# 표준 정규 분포 : 표준 편차가 1인 그래프에서 랜덤값을 생성( -3 ~ 3 )\n",
    "arr = np.random.standard_normal(size = 10)\n",
    "arr"
   ]
  },
  {
   "cell_type": "code",
   "execution_count": 293,
   "id": "e99974c8-2ab4-408d-b718-6fc93cf654c5",
   "metadata": {},
   "outputs": [
    {
     "data": {
      "text/plain": [
       "array([0.41089298, 0.18109405, 0.83824421, 0.11114048, 0.0250164 ,\n",
       "       0.86210344, 0.04616699, 0.08289477, 0.2825825 , 0.47833522])"
      ]
     },
     "execution_count": 293,
     "metadata": {},
     "output_type": "execute_result"
    }
   ],
   "source": [
    "# 균일 분포 : 범위 0~1. 모든 값이 같은 확률로 나옴\n",
    "arr = np.random.uniform(size=10)\n",
    "arr"
   ]
  },
  {
   "cell_type": "code",
   "execution_count": 295,
   "id": "a3834a27-08f5-4431-b812-ac2b7d2bf5de",
   "metadata": {},
   "outputs": [
    {
     "name": "stdout",
     "output_type": "stream",
     "text": [
      "[-0.30823756 -1.07580705  1.83706651 -1.36104737 -1.06818076]\n",
      "[0.30589409 0.12444843 0.3675994  0.86810337 0.12704088]\n"
     ]
    }
   ],
   "source": [
    "# 연습문제\n",
    "# 표준정규분포에서 랜덤값 5개를 생성\n",
    "a = np.random.standard_normal(size=5)\n",
    "print(a)\n",
    "# 균일분포에서 랜덤값 5개를 생성\n",
    "b = np.random.uniform(size=5)\n",
    "print(b)"
   ]
  },
  {
   "cell_type": "markdown",
   "id": "13b8c99b-8db8-465c-a600-50697149441b",
   "metadata": {},
   "source": [
    "## 3.4 유니버설 함수\n",
    "반복문 없이 배열 전체에 계산을 해주는 함수"
   ]
  },
  {
   "cell_type": "code",
   "execution_count": 296,
   "id": "b3cacde1-6592-4733-8a8a-e504653b2967",
   "metadata": {},
   "outputs": [
    {
     "data": {
      "text/plain": [
       "array([0, 1, 2, 3, 4, 5, 6, 7, 8, 9])"
      ]
     },
     "execution_count": 296,
     "metadata": {},
     "output_type": "execute_result"
    }
   ],
   "source": [
    "# 0 ~ 9 숫자가 담긴 1차원 배열 생성\n",
    "arr = np.arange(10)\n",
    "arr"
   ]
  },
  {
   "cell_type": "code",
   "execution_count": 298,
   "id": "7c10b6d4-6463-439c-8b79-02c367f000bc",
   "metadata": {},
   "outputs": [
    {
     "data": {
      "text/plain": [
       "array([ 3,  4,  5,  6,  7,  8,  9, 10, 11, 12])"
      ]
     },
     "execution_count": 298,
     "metadata": {},
     "output_type": "execute_result"
    }
   ],
   "source": [
    "# 파이썬의 리스트는 for문을 사용해서 계산해야함\n",
    "# 넘파이의 배열은 for문 없이 계산 가능\n",
    "# 배여 전체에 3 더하기\n",
    "# add : 더하기\n",
    "np.add(arr, 3)"
   ]
  },
  {
   "cell_type": "code",
   "execution_count": 303,
   "id": "f635f37c-1444-4bfd-87d1-72ae45b23b1b",
   "metadata": {},
   "outputs": [
    {
     "data": {
      "text/plain": [
       "array([ 3,  7,  5,  6, 10])"
      ]
     },
     "execution_count": 303,
     "metadata": {},
     "output_type": "execute_result"
    }
   ],
   "source": [
    "a = np.array([1,7,2,4,10])\n",
    "b = np.array([3,4,5,6,7])\n",
    "\n",
    "# 두 배열을 비교하여 더 큰값 저장하기\n",
    "np.maximum(a, b)"
   ]
  },
  {
   "cell_type": "markdown",
   "id": "6cc94e2c-b3b6-4f26-8ad4-0c3a7a5d1f42",
   "metadata": {},
   "source": [
    "조건문"
   ]
  },
  {
   "cell_type": "code",
   "execution_count": 313,
   "id": "81e65a52-ac0e-4b4f-9b9e-d9edd30d35cd",
   "metadata": {},
   "outputs": [],
   "source": [
    "# 배열 두개 만들기\n",
    "a = np.array([1,2,3])\n",
    "b = np.array([10,20,30])\n",
    "# 불리언 배열 만들기\n",
    "cond = np.array([True, True, False])"
   ]
  },
  {
   "cell_type": "code",
   "execution_count": 305,
   "id": "50e6b04b-8afc-4b21-8556-bce75925856e",
   "metadata": {},
   "outputs": [
    {
     "data": {
      "text/plain": [
       "array([ 1,  2, 30])"
      ]
     },
     "execution_count": 305,
     "metadata": {},
     "output_type": "execute_result"
    }
   ],
   "source": [
    "# where(조건, 참일때값, 거짓일때값) : 조건문 쓰기\n",
    "# 조건이 참이면 a에서 값을 선택, 거짓이면 b에서 값을 선택\n",
    "# where는 삼항연산자와 비슷\n",
    "result = np.where(cond, a, b)\n",
    "result"
   ]
  },
  {
   "cell_type": "code",
   "execution_count": 308,
   "id": "32071150-605e-4173-b81d-586d25ce5185",
   "metadata": {},
   "outputs": [
    {
     "data": {
      "text/plain": [
       "array(['x', 'x', 'x', 'o', 'o'], dtype='<U1')"
      ]
     },
     "execution_count": 308,
     "metadata": {},
     "output_type": "execute_result"
    }
   ],
   "source": [
    "# 1차원 배열 생성\n",
    "arr = np.array([-2, -1, 0, 1, 2])\n",
    "\n",
    "# 양수면 'o', 음수면 'x'로 반환\n",
    "# 조건, 참일때값, 거짓일때 값\n",
    "# 조건이 true면 o를 선택, false면 x를 선택\n",
    "np.where(arr > 0, 'o', 'x')"
   ]
  },
  {
   "cell_type": "code",
   "execution_count": 317,
   "id": "f6631700-418a-467c-b61d-904a9c5a792f",
   "metadata": {},
   "outputs": [
    {
     "name": "stdout",
     "output_type": "stream",
     "text": [
      "[  0 100   0 100   0]\n",
      "[-1  1  1  1 -1]\n"
     ]
    },
    {
     "data": {
      "text/plain": [
       "array([10,  2, 30,  4, 50])"
      ]
     },
     "execution_count": 317,
     "metadata": {},
     "output_type": "execute_result"
    }
   ],
   "source": [
    "# 연습문제\n",
    "\n",
    "# 배열 [5, 12, 7, 20, 3]에서 10보다 크면 '100', 10 이하면 '0'으로 바꾸세요\n",
    "arr = np.array([5, 12, 7, 20, 3])\n",
    "print(np.where( arr > 10, 100, 0))\n",
    "\n",
    "# 배열 [15, 8, 22, 6, 13]에서 짝수면 '1', 홀수면 '-1'으로 바꾸세요\n",
    "bb = np.array([15, 8, 22, 6, 13])\n",
    "print(np.where( bb % 2 == 0, 1, -1))\n",
    "\n",
    "# 배열 [10,20,30,40,50]과 [1,2,3,4,5]를 만들고 \n",
    "# 조건 배열[True, False, True, False, True]를 사용해\n",
    "# 조건 True일 때는 첫 번째 배열 값, False일 떄는 두번째 배열 값을 선택하세요\n",
    "arr1 = np.array([10,20,30,40,50])\n",
    "arr2 = np.array([1,2,3,4,5])\n",
    "cond = np.array([True, False, True, False, True])\n",
    "result = np.where(cond, arr1, arr2)\n",
    "result"
   ]
  },
  {
   "cell_type": "markdown",
   "id": "f9b0c640-cd24-4a1c-878e-9b29e8777fcc",
   "metadata": {},
   "source": [
    "통계를 구할 때 자주 사용하는 함수들  \n",
    "(최대 최소 합계 평균)"
   ]
  },
  {
   "cell_type": "code",
   "execution_count": 324,
   "id": "f8c3f1ea-1a5f-4eb7-aa4b-2f72eec18162",
   "metadata": {},
   "outputs": [
    {
     "name": "stdout",
     "output_type": "stream",
     "text": [
      "5\n",
      "1.0\n"
     ]
    }
   ],
   "source": [
    "# 파이썬의 리스트 생성\n",
    "lis = [1,2,3,4,5]\n",
    "# 리스트의 총합을 구하세요\n",
    "sum = 0\n",
    "for i in lis:\n",
    "    sum = sum + 1\n",
    "print(sum)\n",
    "# 리스트의 평균을 구하세요\n",
    "print(sum/len(lis))"
   ]
  },
  {
   "cell_type": "code",
   "execution_count": 325,
   "id": "5fac577e-710f-4b1a-a3e3-9facf29dc39a",
   "metadata": {},
   "outputs": [
    {
     "name": "stdout",
     "output_type": "stream",
     "text": [
      "15\n",
      "3.0\n",
      "5\n",
      "1\n"
     ]
    }
   ],
   "source": [
    "# 이번에는 넘파이 배열로 합계와 평균 구하기\n",
    "arr = np.array([1,2,3,4,5])\n",
    "print(np.sum(arr))\n",
    "print(np.mean(arr))\n",
    "# 배열에서 제일 큰 값\n",
    "print(np.max(arr))\n",
    "# 배열에서 제일 작은 값\n",
    "print(np.min(arr))"
   ]
  },
  {
   "cell_type": "code",
   "execution_count": 332,
   "id": "2ca5269e-1282-4253-b5ad-63b9aa337e08",
   "metadata": {},
   "outputs": [
    {
     "name": "stdout",
     "output_type": "stream",
     "text": [
      "2000\n",
      "500.0\n",
      "800\n",
      "250\n"
     ]
    }
   ],
   "source": [
    "# 아래는 하루 동안 먹은 음식들의 칼로리다\n",
    "# 김밥 250\n",
    "# 라면 550\n",
    "# 떡볶이 400\n",
    "# 치킨 800\n",
    "kcal = [250, 550, 400, 800]\n",
    "\n",
    "# 하루 먹은 음식의 총 칼로리는 몇인가?\n",
    "ksum = np.sum(kcal)\n",
    "print(ksum)\n",
    "# 음식 4개의 평균 칼로리는 몇인가?\n",
    "avg = np.mean(kcal)\n",
    "print(avg)\n",
    "# 칼로리가 가장 높은 음식은 몇 칼로리인가?\n",
    "print(np.max(kcal))\n",
    "# 칼로리가 가장 낮은 음식은 몇 칼로리인가?\n",
    "print(np.min(kcal))"
   ]
  },
  {
   "cell_type": "code",
   "execution_count": 337,
   "id": "129d2701-865a-4682-a41d-556e1dd75eba",
   "metadata": {},
   "outputs": [
    {
     "name": "stdout",
     "output_type": "stream",
     "text": [
      "280\n"
     ]
    },
    {
     "data": {
      "text/plain": [
       "np.int64(20)"
      ]
     },
     "execution_count": 337,
     "metadata": {},
     "output_type": "execute_result"
    }
   ],
   "source": [
    "# 아래는 일주일 동안 운동한 시간(분)이다.\n",
    "# • 월: 30\n",
    "# • 화: 45\n",
    "# • 수: 60\n",
    "# • 목: 20\n",
    "# • 금: 40\n",
    "# • 토: 50\n",
    "# • 일: 35\n",
    "\n",
    "m = [30, 45, 60, 20, 40, 50, 35]\n",
    "\n",
    "# 일주일 동안 총 운동 시간은 몇 분인가?\n",
    "total = np.sum(m)\n",
    "print(total)\n",
    "# 하루 평균 운동 시간은 몇 분인가?\n",
    "np.mean(m)\n",
    "# 가장 오래 운동한 날은 몇 분인가?\n",
    "np.max(m)\n",
    "# 가장 짧게 운동한 날은 몇 분인가?\n",
    "np.min(m)"
   ]
  },
  {
   "cell_type": "markdown",
   "id": "4574e507-556e-45bf-8f74-63207ff20c88",
   "metadata": {},
   "source": [
    "## 행/열 단위로 합계 구하기"
   ]
  },
  {
   "cell_type": "code",
   "execution_count": 347,
   "id": "079bbcd5-7c94-4d36-86d9-a888217b892c",
   "metadata": {},
   "outputs": [
    {
     "name": "stdout",
     "output_type": "stream",
     "text": [
      "[[1 2 3]\n",
      " [4 5 6]\n",
      " [7 8 9]]\n"
     ]
    },
    {
     "data": {
      "text/plain": [
       "array([ 6, 15, 24])"
      ]
     },
     "execution_count": 347,
     "metadata": {},
     "output_type": "execute_result"
    }
   ],
   "source": [
    "arr = np.arange(1, 10).reshape(3,3)\n",
    "print(arr)\n",
    "\n",
    "# 배열의 합계 구하기\n",
    "arr.sum()\n",
    "# 2 차원 배열에서 행 또는 열 방향으로 합 구하기\n",
    "# axis -> 방향, 0은 세로, 1은 가로 / 2차원 이상에서만 사용\n",
    "arr.sum(axis=0)\n",
    "arr.sum(axis=1)"
   ]
  },
  {
   "cell_type": "code",
   "execution_count": 353,
   "id": "61a919a8-d86a-45b1-b661-4e623d76bb72",
   "metadata": {},
   "outputs": [
    {
     "data": {
      "text/plain": [
       "array([ 1,  3,  6, 10, 15])"
      ]
     },
     "execution_count": 353,
     "metadata": {},
     "output_type": "execute_result"
    }
   ],
   "source": [
    "# 누적값 구하기\n",
    "# 합을 구하는 중간 과정을 보여줌\n",
    "arr = np.array([1,2,3,4,5])\n",
    "arr.cumsum()"
   ]
  },
  {
   "cell_type": "code",
   "execution_count": 359,
   "id": "691e97fe-58e7-4aa9-bf38-e6757ce2a09f",
   "metadata": {},
   "outputs": [
    {
     "name": "stdout",
     "output_type": "stream",
     "text": [
      "[[0 1 2]\n",
      " [3 4 5]\n",
      " [6 7 8]]\n",
      "[[ 0  1  3]\n",
      " [ 3  7 12]\n",
      " [ 6 13 21]]\n"
     ]
    }
   ],
   "source": [
    "# 2차원 배열 생성\n",
    "arr = np.array([ [0,1,2],[3,4,5], [6,7,8] ])\n",
    "print(arr)\n",
    "# 2차원 배열의 누적값 구하기\n",
    "# 기준 설정(세로방향. 위->아래)\n",
    "# 앞에 있는 수를 더한 결과\n",
    "# print(arr.cumsum(axis = 0))\n",
    "# 가로 방향(왼->오)\n",
    "print(arr.cumsum(axis = 1))"
   ]
  },
  {
   "cell_type": "code",
   "execution_count": null,
   "id": "684c7017-be5a-47d6-a3ea-27bfa7e59c59",
   "metadata": {},
   "outputs": [],
   "source": []
  },
  {
   "cell_type": "code",
   "execution_count": null,
   "id": "54de6cc8-6804-40e9-8955-f499b1a0056d",
   "metadata": {},
   "outputs": [],
   "source": []
  },
  {
   "cell_type": "code",
   "execution_count": null,
   "id": "ce5139f1-db48-47d1-8f19-cdffb2a6ef93",
   "metadata": {},
   "outputs": [],
   "source": []
  },
  {
   "cell_type": "code",
   "execution_count": null,
   "id": "9448d551-0227-48f0-acd0-542c016cc8cc",
   "metadata": {},
   "outputs": [],
   "source": []
  },
  {
   "cell_type": "code",
   "execution_count": null,
   "id": "fe0a3d70-2e76-4ce5-aca9-dd2649da3e2c",
   "metadata": {},
   "outputs": [],
   "source": []
  }
 ],
 "metadata": {
  "kernelspec": {
   "display_name": "Python 3 (ipykernel)",
   "language": "python",
   "name": "python3"
  },
  "language_info": {
   "codemirror_mode": {
    "name": "ipython",
    "version": 3
   },
   "file_extension": ".py",
   "mimetype": "text/x-python",
   "name": "python",
   "nbconvert_exporter": "python",
   "pygments_lexer": "ipython3",
   "version": "3.10.18"
  }
 },
 "nbformat": 4,
 "nbformat_minor": 5
}
