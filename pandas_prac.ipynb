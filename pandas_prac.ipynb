{
 "cells": [
  {
   "cell_type": "code",
   "execution_count": 2,
   "id": "571f34ce-61e2-444f-8e4e-4009e7a34e3f",
   "metadata": {},
   "outputs": [],
   "source": [
    "import pandas as pd\n",
    "# pd.Series(값 목록, [인덱스]) / 인덱스는 설정하지 않으면 자동으로 생성\n",
    "import numpy as np"
   ]
  },
  {
   "cell_type": "code",
   "execution_count": null,
   "id": "be144e06-1761-46fc-9ecb-5a7bebea989e",
   "metadata": {},
   "outputs": [],
   "source": [
    "# 연습문제\n",
    "(1번)\n",
    "# 숫자 데이터를 시리즈로 만들어 주세요.\n",
    "# 값은 [5, 10, 15, 20] 이고, 인덱스는 자동으로 생성됩니다.\n",
    "\n",
    "# 숫자 데이터를 시리즈로 만들어 주세요.\n",
    "# 값은 [2, 4, 6, 8] 이고, 인덱스는 자동으로 생성됩니다."
   ]
  },
  {
   "cell_type": "code",
   "execution_count": 7,
   "id": "198d744f-d18f-4a21-a517-f6696797a0e3",
   "metadata": {},
   "outputs": [
    {
     "name": "stdout",
     "output_type": "stream",
     "text": [
      "0     5\n",
      "1    10\n",
      "2    15\n",
      "3    20\n",
      "dtype: int64\n",
      "0    2\n",
      "1    4\n",
      "2    6\n",
      "3    8\n",
      "dtype: int64\n"
     ]
    }
   ],
   "source": [
    "num1 = pd.Series([5, 10, 15, 20])\n",
    "num2 = pd.Series([2, 4, 6, 8])\n",
    "\n",
    "print(num1)\n",
    "print(num2)"
   ]
  },
  {
   "cell_type": "code",
   "execution_count": 9,
   "id": "2fae38c6-4437-4f97-8068-eedef98a1d38",
   "metadata": {},
   "outputs": [
    {
     "data": {
      "text/plain": [
       "Index(['a', 'b', 'c'], dtype='object')"
      ]
     },
     "execution_count": 9,
     "metadata": {},
     "output_type": "execute_result"
    }
   ],
   "source": [
    "# 인덱스를 직접 설정하여 시리즈 생성\n",
    "# pd.Series(값목록(list), 인덱스(list))\n",
    "s = pd.Series([1,2,3], index=['a','b','c'])\n",
    "s\n",
    "# 인덱스 확인\n",
    "s.index\n"
   ]
  },
  {
   "cell_type": "markdown",
   "id": "fb41ba8e-2031-4eca-9e71-595084025a84",
   "metadata": {},
   "source": [
    "시리즈에서 값 꺼내기\n",
    "<small>\n",
    "    값을 찾는 방법 : 인덱스의 이름과 위치<br>\n",
    "    loc 함수 : 인덱스 이름으로 데이터를 찾는다<br>\n",
    "    iloc 함수 : 인덱스 위치로 데이터를 찾는다<br>\n",
    "    대괄호[] : 인덱스 이름으로 데이터를 찾는다\n",
    "    </small>"
   ]
  },
  {
   "cell_type": "code",
   "execution_count": 13,
   "id": "4dd0e60e-89b2-4217-b602-505b9f6b08d6",
   "metadata": {},
   "outputs": [
    {
     "name": "stdout",
     "output_type": "stream",
     "text": [
      "a    1\n",
      "b    2\n",
      "c    3\n",
      "dtype: int64\n"
     ]
    },
    {
     "data": {
      "text/plain": [
       "np.int64(3)"
      ]
     },
     "execution_count": 13,
     "metadata": {},
     "output_type": "execute_result"
    }
   ],
   "source": [
    "print(s)\n",
    "# 이 시리즈의 인덱스 이름 : a,b,c\n",
    "# 이 시리즈의 인덱스 위치 0,1,2 (고민x)\n",
    "\n",
    "# 인덱스 이름으로 숫자 1 꺼내기\n",
    "s.loc['a']\n",
    "# 인덱스 이름으로 숫자 2 꺼내기\n",
    "s['b']\n",
    "# 인덱스 위치로 숫자 3 꺼내기\n",
    "s.iloc[2]"
   ]
  },
  {
   "cell_type": "markdown",
   "id": "42754788-0d53-49b6-b09e-51aa508b81e2",
   "metadata": {},
   "source": [
    "##### 시리즈 값 수정하기"
   ]
  },
  {
   "cell_type": "code",
   "execution_count": 17,
   "id": "e1b27c51-c582-4bb7-88c7-3cf750cf40d8",
   "metadata": {},
   "outputs": [
    {
     "name": "stdout",
     "output_type": "stream",
     "text": [
      "a     0\n",
      "b     2\n",
      "c    99\n",
      "dtype: int64\n"
     ]
    },
    {
     "data": {
      "text/plain": [
       "a     0\n",
       "b     2\n",
       "c    99\n",
       "dtype: int64"
      ]
     },
     "execution_count": 17,
     "metadata": {},
     "output_type": "execute_result"
    }
   ],
   "source": [
    "print(s)\n",
    "# 1을 0으로 변경\n",
    "# 찾기 -> 변경\n",
    "s.loc['a'] = 0\n",
    "# 3을 99로 변경\n",
    "s['c'] = 99\n",
    "s"
   ]
  },
  {
   "cell_type": "code",
   "execution_count": 22,
   "id": "1f50d78d-df0b-47d7-adc7-c9cd8b71d18b",
   "metadata": {},
   "outputs": [
    {
     "name": "stdout",
     "output_type": "stream",
     "text": [
      "국어    70\n",
      "영어    80\n",
      "수학    90\n",
      "dtype: int64\n"
     ]
    },
    {
     "data": {
      "text/plain": [
       "국어    70\n",
       "영어    80\n",
       "수학    75\n",
       "dtype: int64"
      ]
     },
     "execution_count": 22,
     "metadata": {},
     "output_type": "execute_result"
    }
   ],
   "source": [
    "# 연습문제\n",
    "# (2번)\n",
    "# 성적 데이터를 시리즈로 만들어주세요.\n",
    "# 값은 점수 [70, 80, 90] 이고, 인덱스는 과목 ['국어', '영어', '수학'] 입니다.\n",
    "s = pd.Series([70, 80, 90], index = ['국어', '영어', '수학'])\n",
    "print(s)\n",
    "\n",
    "# 1. 국어 점수를 조회하세요. (결과: 70점)\n",
    "s['국어']\n",
    "# 2. 수학 점수를 75점으로 수정하세요.\n",
    "s['수학'] = 75\n",
    "s\n",
    "\n",
    "\n",
    "\n"
   ]
  },
  {
   "cell_type": "code",
   "execution_count": 28,
   "id": "3ab3411e-47dc-4d86-9cff-bf929fb777b9",
   "metadata": {},
   "outputs": [
    {
     "name": "stdout",
     "output_type": "stream",
     "text": [
      "봄     15\n",
      "여름    27\n",
      "가을    18\n",
      "dtype: int64\n",
      "15\n"
     ]
    },
    {
     "data": {
      "text/plain": [
       "봄     15\n",
       "여름    27\n",
       "가을    20\n",
       "dtype: int64"
      ]
     },
     "execution_count": 28,
     "metadata": {},
     "output_type": "execute_result"
    }
   ],
   "source": [
    "# 연습문제\n",
    "# (3번)\n",
    "# 계절별 평균 기온 데이터를 시리즈로 만들어주세요.\n",
    "# 값은 기온 [15, 27, 18] 이고, 인덱스는 계절 ['봄', '여름', '가을'] 입니다.\n",
    "w = pd.Series([15, 27, 18], index = ['봄', '여름', '가을'])\n",
    "print(w)\n",
    "# 1. 봄 기온을 조회하세요. (결과: 15)\n",
    "print(w['봄'])\n",
    "# 2. 가을 기온을 20으로 수정하세요.\n",
    "w['가을'] = 20\n",
    "w"
   ]
  },
  {
   "cell_type": "code",
   "execution_count": 35,
   "id": "582542aa-661a-4304-8c63-6baffe7162d8",
   "metadata": {},
   "outputs": [
    {
     "name": "stdout",
     "output_type": "stream",
     "text": [
      "01-01    1000\n",
      "01-02    1200\n",
      "01-03    1300\n",
      "dtype: int64\n",
      "1000\n"
     ]
    },
    {
     "data": {
      "text/plain": [
       "01-01    1000\n",
       "01-02    1250\n",
       "01-03    1300\n",
       "dtype: int64"
      ]
     },
     "execution_count": 35,
     "metadata": {},
     "output_type": "execute_result"
    }
   ],
   "source": [
    "# 연습문제\n",
    "# (4번)\n",
    "# 일별 매출 데이터를 시리즈로 만들어주세요.\n",
    "# 값은 매출 [1000, 1200, 1300] 이고, 인덱스는 날짜 ['01-01', '01-02', '01-03'] 입니다.\n",
    "m = pd.Series([1000, 1200, 1300], index = ['01-01', '01-02', '01-03'])\n",
    "print(m)\n",
    "# 1. 1월 1일 매출을 조회하세요. (결과: 1000)\n",
    "print(m['01-01'])\n",
    "# 2. 1월 2일 매출을 1250으로 수정하세요.\n",
    "m['01-02'] = 1250\n",
    "m"
   ]
  },
  {
   "cell_type": "code",
   "execution_count": 37,
   "id": "48a00ed7-838f-4367-991d-5c5145f25217",
   "metadata": {},
   "outputs": [
    {
     "name": "stdout",
     "output_type": "stream",
     "text": [
      "월    300\n",
      "화    400\n",
      "수    500\n",
      "dtype: int64\n",
      "400\n"
     ]
    },
    {
     "data": {
      "text/plain": [
       "월    300\n",
       "화    400\n",
       "수    550\n",
       "dtype: int64"
      ]
     },
     "execution_count": 37,
     "metadata": {},
     "output_type": "execute_result"
    }
   ],
   "source": [
    "# 연습문제\n",
    "# (5번)\n",
    "# 요일별 매출 데이터를 시리즈로 만들어주세요.\n",
    "# 값은 매출 [300, 400, 500] 이고, 인덱스는 요일 ['월', '화', '수'] 입니다.\n",
    "d = pd.Series([300, 400, 500], index = ['월', '화', '수'])\n",
    "print(d)\n",
    "# 1. 화요일 매출을 조회하세요. (결과: 400)\n",
    "print(d['화'])\n",
    "# 2. 수요일 매출을 550으로 수정하세요.\n",
    "d['수'] = 550\n",
    "d"
   ]
  },
  {
   "cell_type": "markdown",
   "id": "12bbec96-c6a4-4b87-8903-1075d89dc470",
   "metadata": {},
   "source": [
    "#### 데이터 프레임 연습문제"
   ]
  },
  {
   "cell_type": "code",
   "execution_count": 54,
   "id": "ba9a31aa-a918-4909-a61d-2ee489ddeefa",
   "metadata": {},
   "outputs": [
    {
     "name": "stdout",
     "output_type": "stream",
     "text": [
      "  name  math\n",
      "0   철수    85\n",
      "1   영희    90\n",
      "2   민수    78\n"
     ]
    },
    {
     "data": {
      "text/html": [
       "<div>\n",
       "<style scoped>\n",
       "    .dataframe tbody tr th:only-of-type {\n",
       "        vertical-align: middle;\n",
       "    }\n",
       "\n",
       "    .dataframe tbody tr th {\n",
       "        vertical-align: top;\n",
       "    }\n",
       "\n",
       "    .dataframe thead th {\n",
       "        text-align: right;\n",
       "    }\n",
       "</style>\n",
       "<table border=\"1\" class=\"dataframe\">\n",
       "  <thead>\n",
       "    <tr style=\"text-align: right;\">\n",
       "      <th></th>\n",
       "      <th>day</th>\n",
       "      <th>sales</th>\n",
       "    </tr>\n",
       "  </thead>\n",
       "  <tbody>\n",
       "    <tr>\n",
       "      <th>0</th>\n",
       "      <td>월</td>\n",
       "      <td>1000</td>\n",
       "    </tr>\n",
       "    <tr>\n",
       "      <th>1</th>\n",
       "      <td>화</td>\n",
       "      <td>1200</td>\n",
       "    </tr>\n",
       "    <tr>\n",
       "      <th>2</th>\n",
       "      <td>수</td>\n",
       "      <td>900</td>\n",
       "    </tr>\n",
       "  </tbody>\n",
       "</table>\n",
       "</div>"
      ],
      "text/plain": [
       "  day  sales\n",
       "0   월   1000\n",
       "1   화   1200\n",
       "2   수    900"
      ]
     },
     "execution_count": 54,
     "metadata": {},
     "output_type": "execute_result"
    }
   ],
   "source": [
    "# (1번)\n",
    "# 학생 성적 데이터를 데이터프레임으로 만들어주세요.\n",
    "# 첫 번째 열은 학생 이름: [\"철수\", \"영희\", \"민수\"]\n",
    "# 두 번째 열은 수학 점수: [85, 90, 78]\n",
    "data = {'name':[\"철수\", \"영희\", \"민수\"], \n",
    "    'math': [85, 90, 78]}\n",
    "df = pd.DataFrame(data)\n",
    "print(df)\n",
    "\n",
    "# 요일별 매출 데이터를 데이터프레임으로 만들어주세요.\n",
    "# 첫 번째 열은 요일: [\"월\", \"화\", \"수\"]\n",
    "# 두 번째 열은 매출: [1000, 1200, 900]\n",
    "data = {'day':[\"월\", \"화\", \"수\"], \n",
    "    'sales': [1000, 1200, 900]}\n",
    "df = pd.DataFrame(data)\n",
    "df"
   ]
  },
  {
   "cell_type": "markdown",
   "id": "0f1d060c-e230-470d-9a2e-5de16670fb94",
   "metadata": {},
   "source": [
    "데이터 프레임 drop 연습문제"
   ]
  },
  {
   "cell_type": "code",
   "execution_count": 64,
   "id": "5febfe8c-40c5-432d-b524-18a6db77b32e",
   "metadata": {},
   "outputs": [
    {
     "data": {
      "text/html": [
       "<div>\n",
       "<style scoped>\n",
       "    .dataframe tbody tr th:only-of-type {\n",
       "        vertical-align: middle;\n",
       "    }\n",
       "\n",
       "    .dataframe tbody tr th {\n",
       "        vertical-align: top;\n",
       "    }\n",
       "\n",
       "    .dataframe thead th {\n",
       "        text-align: right;\n",
       "    }\n",
       "</style>\n",
       "<table border=\"1\" class=\"dataframe\">\n",
       "  <thead>\n",
       "    <tr style=\"text-align: right;\">\n",
       "      <th></th>\n",
       "      <th>판매량</th>\n",
       "      <th>재고</th>\n",
       "      <th>가격</th>\n",
       "    </tr>\n",
       "  </thead>\n",
       "  <tbody>\n",
       "    <tr>\n",
       "      <th>사과</th>\n",
       "      <td>30</td>\n",
       "      <td>50</td>\n",
       "      <td>1000</td>\n",
       "    </tr>\n",
       "    <tr>\n",
       "      <th>배</th>\n",
       "      <td>20</td>\n",
       "      <td>40</td>\n",
       "      <td>1200</td>\n",
       "    </tr>\n",
       "  </tbody>\n",
       "</table>\n",
       "</div>"
      ],
      "text/plain": [
       "    판매량  재고    가격\n",
       "사과   30  50  1000\n",
       "배    20  40  1200"
      ]
     },
     "execution_count": 64,
     "metadata": {},
     "output_type": "execute_result"
    }
   ],
   "source": [
    "# (2번)\n",
    "# 과일 판매 데이터를 데이터프레임으로 만들어주세요.\n",
    "# 값은 [[30, 50], [20, 40]]\n",
    "# 행 이름(index)은 ['사과', '배']\n",
    "# 열 이름(columns)은 ['판매량', '재고']\n",
    "data = np.array([[30, 50], [20, 40]])\n",
    "f = pd.DataFrame(data, index=['사과', '배'], columns=['판매량', '재고'])\n",
    "f"
   ]
  },
  {
   "cell_type": "code",
   "execution_count": 68,
   "id": "76585543-9b3e-4e7c-9442-cc25fe5a5c65",
   "metadata": {},
   "outputs": [
    {
     "data": {
      "text/plain": [
       "np.int64(30)"
      ]
     },
     "execution_count": 68,
     "metadata": {},
     "output_type": "execute_result"
    }
   ],
   "source": [
    "# 1. 사과의 판매량을 조회하세요. (결과: 30)\n",
    "f.loc['사과','판매량']"
   ]
  },
  {
   "cell_type": "code",
   "execution_count": 66,
   "id": "73ebdedd-f863-4152-8768-98dbe88d93ed",
   "metadata": {},
   "outputs": [
    {
     "data": {
      "text/html": [
       "<div>\n",
       "<style scoped>\n",
       "    .dataframe tbody tr th:only-of-type {\n",
       "        vertical-align: middle;\n",
       "    }\n",
       "\n",
       "    .dataframe tbody tr th {\n",
       "        vertical-align: top;\n",
       "    }\n",
       "\n",
       "    .dataframe thead th {\n",
       "        text-align: right;\n",
       "    }\n",
       "</style>\n",
       "<table border=\"1\" class=\"dataframe\">\n",
       "  <thead>\n",
       "    <tr style=\"text-align: right;\">\n",
       "      <th></th>\n",
       "      <th>판매량</th>\n",
       "      <th>재고</th>\n",
       "      <th>가격</th>\n",
       "    </tr>\n",
       "  </thead>\n",
       "  <tbody>\n",
       "    <tr>\n",
       "      <th>사과</th>\n",
       "      <td>30</td>\n",
       "      <td>50</td>\n",
       "      <td>1000</td>\n",
       "    </tr>\n",
       "    <tr>\n",
       "      <th>배</th>\n",
       "      <td>20</td>\n",
       "      <td>40</td>\n",
       "      <td>1200</td>\n",
       "    </tr>\n",
       "  </tbody>\n",
       "</table>\n",
       "</div>"
      ],
      "text/plain": [
       "    판매량  재고    가격\n",
       "사과   30  50  1000\n",
       "배    20  40  1200"
      ]
     },
     "execution_count": 66,
     "metadata": {},
     "output_type": "execute_result"
    }
   ],
   "source": [
    "# 2. 새로운 열 '가격'을 추가하고, 사과는 1000원, 배는 1200원으로 입력하세요.\n",
    "f['가격'] = [1000,1200]\n",
    "f"
   ]
  },
  {
   "cell_type": "code",
   "execution_count": 69,
   "id": "e18beb83-b122-43f8-a411-134fab997b41",
   "metadata": {},
   "outputs": [
    {
     "data": {
      "text/html": [
       "<div>\n",
       "<style scoped>\n",
       "    .dataframe tbody tr th:only-of-type {\n",
       "        vertical-align: middle;\n",
       "    }\n",
       "\n",
       "    .dataframe tbody tr th {\n",
       "        vertical-align: top;\n",
       "    }\n",
       "\n",
       "    .dataframe thead th {\n",
       "        text-align: right;\n",
       "    }\n",
       "</style>\n",
       "<table border=\"1\" class=\"dataframe\">\n",
       "  <thead>\n",
       "    <tr style=\"text-align: right;\">\n",
       "      <th></th>\n",
       "      <th>인구</th>\n",
       "      <th>면적</th>\n",
       "    </tr>\n",
       "  </thead>\n",
       "  <tbody>\n",
       "    <tr>\n",
       "      <th>서울</th>\n",
       "      <td>950</td>\n",
       "      <td>1200</td>\n",
       "    </tr>\n",
       "    <tr>\n",
       "      <th>부산</th>\n",
       "      <td>500</td>\n",
       "      <td>800</td>\n",
       "    </tr>\n",
       "  </tbody>\n",
       "</table>\n",
       "</div>"
      ],
      "text/plain": [
       "     인구    면적\n",
       "서울  950  1200\n",
       "부산  500   800"
      ]
     },
     "execution_count": 69,
     "metadata": {},
     "output_type": "execute_result"
    }
   ],
   "source": [
    "# (3번)\n",
    "# 도시 데이터를 데이터프레임으로 만들어주세요.\n",
    "# 값은 [[950, 1200], [500, 800]]\n",
    "# 행 이름(index)은 ['서울', '부산']\n",
    "# 열 이름(columns)은 ['인구', '면적']\n",
    "data = [[950, 1200], [500, 800]]\n",
    "df = pd.DataFrame(data, index=['서울', '부산'], columns=['인구', '면적'])\n",
    "df\n",
    "\n",
    "\n"
   ]
  },
  {
   "cell_type": "code",
   "execution_count": 72,
   "id": "a5898992-131c-4262-b252-ab1cd138b011",
   "metadata": {},
   "outputs": [
    {
     "data": {
      "text/plain": [
       "np.int64(1200)"
      ]
     },
     "execution_count": 72,
     "metadata": {},
     "output_type": "execute_result"
    }
   ],
   "source": [
    "# 1. 서울의 면적을 조회하세요. (결과: 1200)\n",
    "df.loc['서울', '면적']"
   ]
  },
  {
   "cell_type": "code",
   "execution_count": 74,
   "id": "9d99fd65-7752-4b41-9aed-69c8bd8d2fe9",
   "metadata": {},
   "outputs": [
    {
     "data": {
      "text/html": [
       "<div>\n",
       "<style scoped>\n",
       "    .dataframe tbody tr th:only-of-type {\n",
       "        vertical-align: middle;\n",
       "    }\n",
       "\n",
       "    .dataframe tbody tr th {\n",
       "        vertical-align: top;\n",
       "    }\n",
       "\n",
       "    .dataframe thead th {\n",
       "        text-align: right;\n",
       "    }\n",
       "</style>\n",
       "<table border=\"1\" class=\"dataframe\">\n",
       "  <thead>\n",
       "    <tr style=\"text-align: right;\">\n",
       "      <th></th>\n",
       "      <th>인구</th>\n",
       "      <th>면적</th>\n",
       "      <th>특산물</th>\n",
       "    </tr>\n",
       "  </thead>\n",
       "  <tbody>\n",
       "    <tr>\n",
       "      <th>서울</th>\n",
       "      <td>950</td>\n",
       "      <td>1200</td>\n",
       "      <td>김치</td>\n",
       "    </tr>\n",
       "    <tr>\n",
       "      <th>부산</th>\n",
       "      <td>500</td>\n",
       "      <td>800</td>\n",
       "      <td>어묵</td>\n",
       "    </tr>\n",
       "  </tbody>\n",
       "</table>\n",
       "</div>"
      ],
      "text/plain": [
       "     인구    면적 특산물\n",
       "서울  950  1200  김치\n",
       "부산  500   800  어묵"
      ]
     },
     "execution_count": 74,
     "metadata": {},
     "output_type": "execute_result"
    }
   ],
   "source": [
    "# 2. 새로운 열 '특산물'을 추가하고, 서울은 \"김치\", 부산은 \"어묵\"으로 입력하세요.\n",
    "df['특산물'] = ['김치', '어묵']\n",
    "df"
   ]
  },
  {
   "cell_type": "code",
   "execution_count": 76,
   "id": "4d9d6481-dc3b-4f94-9c24-dbfdb9702789",
   "metadata": {},
   "outputs": [
    {
     "data": {
      "text/html": [
       "<div>\n",
       "<style scoped>\n",
       "    .dataframe tbody tr th:only-of-type {\n",
       "        vertical-align: middle;\n",
       "    }\n",
       "\n",
       "    .dataframe tbody tr th {\n",
       "        vertical-align: top;\n",
       "    }\n",
       "\n",
       "    .dataframe thead th {\n",
       "        text-align: right;\n",
       "    }\n",
       "</style>\n",
       "<table border=\"1\" class=\"dataframe\">\n",
       "  <thead>\n",
       "    <tr style=\"text-align: right;\">\n",
       "      <th></th>\n",
       "      <th>가격</th>\n",
       "      <th>제목</th>\n",
       "    </tr>\n",
       "  </thead>\n",
       "  <tbody>\n",
       "    <tr>\n",
       "      <th>책1</th>\n",
       "      <td>15000</td>\n",
       "      <td>홍길동전</td>\n",
       "    </tr>\n",
       "    <tr>\n",
       "      <th>책2</th>\n",
       "      <td>20000</td>\n",
       "      <td>해리포터</td>\n",
       "    </tr>\n",
       "  </tbody>\n",
       "</table>\n",
       "</div>"
      ],
      "text/plain": [
       "       가격    제목\n",
       "책1  15000  홍길동전\n",
       "책2  20000  해리포터"
      ]
     },
     "execution_count": 76,
     "metadata": {},
     "output_type": "execute_result"
    }
   ],
   "source": [
    "# (4번)\n",
    "# 도서 데이터를 데이터프레임으로 만들어주세요.\n",
    "# 값은 [[15000, '홍길동전'], [20000, '해리포터']]\n",
    "# 행 이름(index)은 ['책1', '책2']\n",
    "# 열 이름(columns)은 ['가격', '제목']\n",
    "data = [[15000, '홍길동전'], [20000, '해리포터']]\n",
    "df = pd.DataFrame(data, index=['책1', '책2'], columns=['가격', '제목'])\n",
    "df"
   ]
  },
  {
   "cell_type": "code",
   "execution_count": 77,
   "id": "d5066fe6-a0ad-4389-9b34-14aed861d659",
   "metadata": {},
   "outputs": [
    {
     "data": {
      "text/plain": [
       "np.int64(20000)"
      ]
     },
     "execution_count": 77,
     "metadata": {},
     "output_type": "execute_result"
    }
   ],
   "source": [
    "# 1. 책2의 가격을 조회하세요. (결과: 20000)\n",
    "df.loc['책2','가격']"
   ]
  },
  {
   "cell_type": "code",
   "execution_count": 78,
   "id": "fd5d13a8-33fb-4bd9-98c9-b42c73cc0630",
   "metadata": {},
   "outputs": [
    {
     "data": {
      "text/html": [
       "<div>\n",
       "<style scoped>\n",
       "    .dataframe tbody tr th:only-of-type {\n",
       "        vertical-align: middle;\n",
       "    }\n",
       "\n",
       "    .dataframe tbody tr th {\n",
       "        vertical-align: top;\n",
       "    }\n",
       "\n",
       "    .dataframe thead th {\n",
       "        text-align: right;\n",
       "    }\n",
       "</style>\n",
       "<table border=\"1\" class=\"dataframe\">\n",
       "  <thead>\n",
       "    <tr style=\"text-align: right;\">\n",
       "      <th></th>\n",
       "      <th>가격</th>\n",
       "      <th>제목</th>\n",
       "      <th>저자</th>\n",
       "    </tr>\n",
       "  </thead>\n",
       "  <tbody>\n",
       "    <tr>\n",
       "      <th>책1</th>\n",
       "      <td>15000</td>\n",
       "      <td>홍길동전</td>\n",
       "      <td>허균</td>\n",
       "    </tr>\n",
       "    <tr>\n",
       "      <th>책2</th>\n",
       "      <td>20000</td>\n",
       "      <td>해리포터</td>\n",
       "      <td>J.K. 롤링</td>\n",
       "    </tr>\n",
       "  </tbody>\n",
       "</table>\n",
       "</div>"
      ],
      "text/plain": [
       "       가격    제목       저자\n",
       "책1  15000  홍길동전       허균\n",
       "책2  20000  해리포터  J.K. 롤링"
      ]
     },
     "execution_count": 78,
     "metadata": {},
     "output_type": "execute_result"
    }
   ],
   "source": [
    "# 2. 새로운 열 '저자'를 가격 뒤에 추가하고, 책1은 \"허균\", 책2는 \"J.K. 롤링\"으로 입력하세요.\n",
    "df['저자'] = ['허균','J.K. 롤링']\n",
    "df"
   ]
  },
  {
   "cell_type": "code",
   "execution_count": 82,
   "id": "24a24066-0c83-410d-8dac-ead08897c548",
   "metadata": {},
   "outputs": [],
   "source": [
    "# (5번)\n",
    "# 영화 데이터를 데이터프레임으로 만들어주세요.\n",
    "# 값은 [[9.0, 14000], [8.2, 9500]]\n",
    "# 행 이름(index)은 ['기생충', '인터스텔라']\n",
    "# 열 이름(columns)은 ['평점', '관객수']\n",
    "movie = [[9.0, 14000], [8.2, 9500]]\n",
    "df = pd.DataFrame(movie, index=['기생충', '인터스텔라'], columns=['평점', '관객수'])\n",
    "\n"
   ]
  },
  {
   "cell_type": "code",
   "execution_count": 83,
   "id": "7f751795-3e35-473d-9805-d7b13cbc3a41",
   "metadata": {},
   "outputs": [
    {
     "data": {
      "text/plain": [
       "np.float64(9.0)"
      ]
     },
     "execution_count": 83,
     "metadata": {},
     "output_type": "execute_result"
    }
   ],
   "source": [
    "# 1. 영화 기생충의 평점을 조회하세요. (결과: 9.0)\n",
    "df.loc['기생충', '평점']\n",
    "\n"
   ]
  },
  {
   "cell_type": "code",
   "execution_count": 89,
   "id": "1287e11d-8b41-4105-bace-44e0fbd14af0",
   "metadata": {},
   "outputs": [],
   "source": [
    "# 2. '관객수' 열을 삭제하세요.\n",
    "# del df['관객수']\n",
    "# df\n",
    "\n",
    "# drop(행 또는 열 이름 , 방향)\n",
    "# result = df.drop('관객수', axis=1)\n",
    "# print(result)"
   ]
  },
  {
   "cell_type": "code",
   "execution_count": 126,
   "id": "137cf5e4-ce0e-4432-bec6-5c26a8bc1579",
   "metadata": {},
   "outputs": [
    {
     "data": {
      "text/plain": [
       "국어    80\n",
       "영어    90\n",
       "수학    75\n",
       "과학    85\n",
       "dtype: int64"
      ]
     },
     "execution_count": 126,
     "metadata": {},
     "output_type": "execute_result"
    }
   ],
   "source": [
    "# (1번)\n",
    "# 학생 점수 데이터를 시리즈로 만들어주세요.\n",
    "# 값은 점수 [80, 90, 75, 85] 이고, 인덱스는 과목 ['국어', '영어', '수학', '과학'] 입니다.\n",
    "s = pd.Series([80, 90, 75, 85], \n",
    "             index=['국어', '영어', '수학', '과학'])\n",
    "s"
   ]
  },
  {
   "cell_type": "code",
   "execution_count": 127,
   "id": "3d6505e9-aa14-4115-9970-47ef8af95b38",
   "metadata": {},
   "outputs": [
    {
     "name": "stdout",
     "output_type": "stream",
     "text": [
      "총점: 330\n",
      "평균: 82.5\n",
      "최고 점수: 90\n",
      "최소 점수: 75\n"
     ]
    }
   ],
   "source": [
    "# 1. 총점을 구하세요.\n",
    "print('총점:', s.sum())\n",
    "# 2. 평균 점수를 구하세요.\n",
    "print('평균:', s.mean())\n",
    "# 3. 가장 높은 점수를 구하세요.\n",
    "print('최고 점수:', s.max())\n",
    "# 4. 가장 낮은 점수를 구하세요.\n",
    "print('최소 점수:', s.min())"
   ]
  },
  {
   "cell_type": "code",
   "execution_count": 122,
   "id": "2fc4ab39-0a7a-4ac6-bc4f-0154aa616604",
   "metadata": {},
   "outputs": [
    {
     "data": {
      "text/plain": [
       "월    2\n",
       "화    5\n",
       "수   -1\n",
       "목    0\n",
       "금    7\n",
       "토   -3\n",
       "일    4\n",
       "dtype: int64"
      ]
     },
     "execution_count": 122,
     "metadata": {},
     "output_type": "execute_result"
    }
   ],
   "source": [
    "# (2번)\n",
    "# 일주일 동안의 기온 데이터를 시리즈로 만들어주세요.\n",
    "# 값은 기온 [2, 5, -1, 0, 7, -3, 4] 이고, 인덱스는 요일 ['월', '화', '수', '목', '금', '토', '일'] 입니다.\n",
    "s = pd.Series([2, 5, -1, 0, 7, -3, 4],\n",
    "        index=['월', '화', '수', '목', '금', '토', '일'])\n",
    "s"
   ]
  },
  {
   "cell_type": "code",
   "execution_count": 123,
   "id": "5c798bf5-9bdf-427c-b640-12185dc354cf",
   "metadata": {},
   "outputs": [
    {
     "data": {
      "text/plain": [
       "월    2\n",
       "화    5\n",
       "금    7\n",
       "일    4\n",
       "dtype: int64"
      ]
     },
     "execution_count": 123,
     "metadata": {},
     "output_type": "execute_result"
    }
   ],
   "source": [
    "# 1. 영상(0°C 이상)인 날만 골라내세요.\n",
    "s[s>0]"
   ]
  },
  {
   "cell_type": "markdown",
   "id": "82a93e3f-9d58-498a-b119-328c53717287",
   "metadata": {},
   "source": [
    "데이터 프레임 연습문제"
   ]
  },
  {
   "cell_type": "code",
   "execution_count": 176,
   "id": "08cbddb9-ced7-48a2-b3c7-0c0131e29789",
   "metadata": {},
   "outputs": [
    {
     "name": "stdout",
     "output_type": "stream",
     "text": [
      "           관객수   평점\n",
      "기생충    12000.0  9.0\n",
      "인터스텔라   8000.0  8.5\n",
      "아바타    15000.0  9.3\n",
      "           관객수   평점\n",
      "기생충    12000.0  9.0\n",
      "인터스텔라   8000.0  8.5\n",
      "아바타    15000.0  9.3\n"
     ]
    },
    {
     "data": {
      "text/html": [
       "<div>\n",
       "<style scoped>\n",
       "    .dataframe tbody tr th:only-of-type {\n",
       "        vertical-align: middle;\n",
       "    }\n",
       "\n",
       "    .dataframe tbody tr th {\n",
       "        vertical-align: top;\n",
       "    }\n",
       "\n",
       "    .dataframe thead th {\n",
       "        text-align: right;\n",
       "    }\n",
       "</style>\n",
       "<table border=\"1\" class=\"dataframe\">\n",
       "  <thead>\n",
       "    <tr style=\"text-align: right;\">\n",
       "      <th></th>\n",
       "      <th>관객수</th>\n",
       "      <th>평점</th>\n",
       "    </tr>\n",
       "  </thead>\n",
       "  <tbody>\n",
       "    <tr>\n",
       "      <th>기생충</th>\n",
       "      <td>12000.0</td>\n",
       "      <td>9.0</td>\n",
       "    </tr>\n",
       "    <tr>\n",
       "      <th>아바타</th>\n",
       "      <td>15000.0</td>\n",
       "      <td>9.3</td>\n",
       "    </tr>\n",
       "  </tbody>\n",
       "</table>\n",
       "</div>"
      ],
      "text/plain": [
       "         관객수   평점\n",
       "기생충  12000.0  9.0\n",
       "아바타  15000.0  9.3"
      ]
     },
     "execution_count": 176,
     "metadata": {},
     "output_type": "execute_result"
    }
   ],
   "source": [
    "# (1번)\n",
    "# 영화 데이터를 데이터프레임으로 만들어주세요.\n",
    "# 값은 [[12000, 9.0], [8000, 8.5], [15000, 9.3]]\n",
    "# 행 이름(index)은 ['기생충', '인터스텔라', '아바타']\n",
    "# 열 이름(columns)은 ['관객수', '평점']\n",
    "movie = np.array([[12000, 9.0], [8000, 8.5], [15000, 9.3]])\n",
    "df = pd.DataFrame(movie, index=['기생충', '인터스텔라', '아바타'], columns=['관객수', '평점'] )\n",
    "print(df)\n",
    "\n",
    "# 1. 모든 영화의 관객수에 1000명을 추가하세요.\n",
    "# (결과: [13000, 9000, 16000])\n",
    "df['관객수'] + 1000\n",
    "print(df)\n",
    "\n",
    "# 2. 평점이 9.0 이상인 영화만 조회하세요.\n",
    "df[df['평점'] >= 9.0]"
   ]
  },
  {
   "cell_type": "code",
   "execution_count": 191,
   "id": "c1239a40-ee96-4161-aec5-f5b04b1c5cbc",
   "metadata": {},
   "outputs": [
    {
     "data": {
      "text/html": [
       "<div>\n",
       "<style scoped>\n",
       "    .dataframe tbody tr th:only-of-type {\n",
       "        vertical-align: middle;\n",
       "    }\n",
       "\n",
       "    .dataframe tbody tr th {\n",
       "        vertical-align: top;\n",
       "    }\n",
       "\n",
       "    .dataframe thead th {\n",
       "        text-align: right;\n",
       "    }\n",
       "</style>\n",
       "<table border=\"1\" class=\"dataframe\">\n",
       "  <thead>\n",
       "    <tr style=\"text-align: right;\">\n",
       "      <th></th>\n",
       "      <th>1월 매출</th>\n",
       "      <th>2월 매출</th>\n",
       "      <th>합계</th>\n",
       "      <th>합계(만원)</th>\n",
       "    </tr>\n",
       "  </thead>\n",
       "  <tbody>\n",
       "    <tr>\n",
       "      <th>치마</th>\n",
       "      <td>25000</td>\n",
       "      <td>30000</td>\n",
       "      <td>55000</td>\n",
       "      <td>5.5</td>\n",
       "    </tr>\n",
       "    <tr>\n",
       "      <th>바지</th>\n",
       "      <td>40000</td>\n",
       "      <td>15000</td>\n",
       "      <td>55000</td>\n",
       "      <td>5.5</td>\n",
       "    </tr>\n",
       "  </tbody>\n",
       "</table>\n",
       "</div>"
      ],
      "text/plain": [
       "    1월 매출  2월 매출     합계  합계(만원)\n",
       "치마  25000  30000  55000     5.5\n",
       "바지  40000  15000  55000     5.5"
      ]
     },
     "execution_count": 191,
     "metadata": {},
     "output_type": "execute_result"
    }
   ],
   "source": [
    "# (2번)\n",
    "# 상품 매출 데이터를 데이터프레임으로 만들어주세요.\n",
    "# 값: [[25000, 30000], [40000, 15000]]\n",
    "# 행 이름(index): [‘치마', '바지']\n",
    "# 열 이름(columns): ['1월 매출', ‘2월 매출']\n",
    "data=np.array([[25000, 30000], [40000, 15000]])\n",
    "df = pd.DataFrame(data, index=['치마', '바지'], columns=['1월 매출', '2월 매출'] )\n",
    "df\n",
    "\n",
    "# 1. 새로운 열 '합계'를 추가하여 1월과 2월 매출의 합을 구하세요.\n",
    "# print(df['1월 매출'])\n",
    "# print(df['2월 매출'])\n",
    "# print(df['1월 매출'] + df['2월 매출'])\n",
    "df['합계'] = df['1월 매출'] + df['2월 매출']\n",
    "# 2. '합계'를 만원 단위로 바꾼 새로운 열 '합계(만원)'을 추가하세요.\n",
    "# df = ['합계(만원)']\n",
    "df['합계(만원)'] = df['합계']/10000\n",
    "df"
   ]
  },
  {
   "cell_type": "code",
   "execution_count": 202,
   "id": "053b163a-f604-40de-b1c8-755a52caafb9",
   "metadata": {},
   "outputs": [
    {
     "data": {
      "text/html": [
       "<div>\n",
       "<style scoped>\n",
       "    .dataframe tbody tr th:only-of-type {\n",
       "        vertical-align: middle;\n",
       "    }\n",
       "\n",
       "    .dataframe tbody tr th {\n",
       "        vertical-align: top;\n",
       "    }\n",
       "\n",
       "    .dataframe thead th {\n",
       "        text-align: right;\n",
       "    }\n",
       "</style>\n",
       "<table border=\"1\" class=\"dataframe\">\n",
       "  <thead>\n",
       "    <tr style=\"text-align: right;\">\n",
       "      <th></th>\n",
       "      <th>봄</th>\n",
       "      <th>여름</th>\n",
       "      <th>겨울</th>\n",
       "    </tr>\n",
       "  </thead>\n",
       "  <tbody>\n",
       "    <tr>\n",
       "      <th>부산</th>\n",
       "      <td>NaN</td>\n",
       "      <td>22.0</td>\n",
       "      <td>19</td>\n",
       "    </tr>\n",
       "    <tr>\n",
       "      <th>대구</th>\n",
       "      <td>25.0</td>\n",
       "      <td>27.0</td>\n",
       "      <td>23</td>\n",
       "    </tr>\n",
       "  </tbody>\n",
       "</table>\n",
       "</div>"
      ],
      "text/plain": [
       "       봄    여름  겨울\n",
       "부산   NaN  22.0  19\n",
       "대구  25.0  27.0  23"
      ]
     },
     "execution_count": 202,
     "metadata": {},
     "output_type": "execute_result"
    }
   ],
   "source": [
    "# (1번)\n",
    "# 도시별 기온 데이터를 데이터 프레임으로 만들어 주세요.\n",
    "# 데이터: [[20, 25, 15], [18, 22, 19], [25, 27, 23]]\n",
    "# 행 이름(index): ['서울', '부산', '대구']\n",
    "# 열 이름(columns): ['봄', '여름', '겨울']\n",
    "data = np.array([[20, 25, 15], [18, 22, 19], [25, 27, 23]])\n",
    "df = pd.DataFrame(data, \n",
    "                  index=['서울', '부산', '대구'], \n",
    "                  columns=['봄', '여름', '겨울'])\n",
    "df\n",
    "# 1. 서울의 여름 기온을 빈값(NaN) 으로 변경하세요.\n",
    "df.loc['서울','여름'] = np.nan\n",
    "df\n",
    "# 2. 빈값이 포함된 행을 삭제 하세요.\n",
    "df = df.dropna(axis=0)\n",
    "df\n",
    "# 3. 부산의 봄 기온을 빈값(NaN) 으로 변경하세요.\n",
    "df.loc['부산','봄'] = np.nan\n",
    "df\n",
    "# 4. 모든 빈값을 0으로 채우세요.\n",
    "df.fillna(0)\n",
    "df"
   ]
  },
  {
   "cell_type": "code",
   "execution_count": 209,
   "id": "456d019a-50cb-4edf-9539-3b0688fc2fc7",
   "metadata": {},
   "outputs": [
    {
     "data": {
      "text/html": [
       "<div>\n",
       "<style scoped>\n",
       "    .dataframe tbody tr th:only-of-type {\n",
       "        vertical-align: middle;\n",
       "    }\n",
       "\n",
       "    .dataframe tbody tr th {\n",
       "        vertical-align: top;\n",
       "    }\n",
       "\n",
       "    .dataframe thead th {\n",
       "        text-align: right;\n",
       "    }\n",
       "</style>\n",
       "<table border=\"1\" class=\"dataframe\">\n",
       "  <thead>\n",
       "    <tr style=\"text-align: right;\">\n",
       "      <th></th>\n",
       "      <th>1반</th>\n",
       "      <th>3반</th>\n",
       "    </tr>\n",
       "  </thead>\n",
       "  <tbody>\n",
       "    <tr>\n",
       "      <th>국어</th>\n",
       "      <td>80</td>\n",
       "      <td>90.0</td>\n",
       "    </tr>\n",
       "    <tr>\n",
       "      <th>영어</th>\n",
       "      <td>85</td>\n",
       "      <td>82.0</td>\n",
       "    </tr>\n",
       "    <tr>\n",
       "      <th>수학</th>\n",
       "      <td>70</td>\n",
       "      <td>100.0</td>\n",
       "    </tr>\n",
       "  </tbody>\n",
       "</table>\n",
       "</div>"
      ],
      "text/plain": [
       "    1반     3반\n",
       "국어  80   90.0\n",
       "영어  85   82.0\n",
       "수학  70  100.0"
      ]
     },
     "execution_count": 209,
     "metadata": {},
     "output_type": "execute_result"
    }
   ],
   "source": [
    "# (2번)\n",
    "# 학급별 점수 데이터를 데이터프레임으로 만드세요.\n",
    "# 데이터: [[80, 75, 90], [85, 88, 82], [70, 65, 78]]\n",
    "# 행 이름(index): ['국어', '영어', '수학']\n",
    "# 열 이름(columns): ['1반', '2반', '3반']\n",
    "data = np.array([[80, 75, 90], [85, 88, 82], [70, 65, 78]])\n",
    "df = pd.DataFrame(data, \n",
    "                  index=['국어', '영어', '수학'],\n",
    "                  columns=['1반', '2반', '3반']\n",
    "                 )\n",
    "df\n",
    "# 1. 2반 영어 점수를 빈값(NaN) 으로 변경하세요.\n",
    "df.loc['영어', '2반'] = np.nan\n",
    "df\n",
    "# 2. 빈값이 포함된 열을 삭제하세요.\n",
    "df = df.dropna(axis=1)\n",
    "df\n",
    "# 3. 3반 수학 점수를 빈값(NaN) 으로 변경하세요.\n",
    "df.loc['수학', '3반'] = np.nan\n",
    "df\n",
    "# 4. 모든 빈값을 100으로 채우세요.\n",
    "df.fillna(100)"
   ]
  },
  {
   "cell_type": "code",
   "execution_count": null,
   "id": "bc36f951-7b7d-40e4-ac6e-d5bdd926069d",
   "metadata": {},
   "outputs": [],
   "source": [
    "# 데이터 탐색 연습 문제"
   ]
  },
  {
   "cell_type": "code",
   "execution_count": 4,
   "id": "39e5b6fb-b151-4738-a0ae-8dd624237b99",
   "metadata": {},
   "outputs": [
    {
     "data": {
      "text/plain": [
       "0    서울\n",
       "1    부산\n",
       "2    서울\n",
       "3    대구\n",
       "4    부산\n",
       "5    광주\n",
       "6    서울\n",
       "dtype: object"
      ]
     },
     "execution_count": 4,
     "metadata": {},
     "output_type": "execute_result"
    }
   ],
   "source": [
    "# 지역 목록을 시리즈로 만들어주세요\n",
    "# 값은 ['서울','부산','서울','대구','부산','광주','서울']입니다\n",
    "s = pd.Series(['서울','부산','서울','대구','부산','광주','서울'])\n",
    "s"
   ]
  },
  {
   "cell_type": "code",
   "execution_count": 5,
   "id": "c540ce5e-aa55-4c39-9492-df83eaed23d1",
   "metadata": {},
   "outputs": [
    {
     "data": {
      "text/plain": [
       "array(['서울', '부산', '대구', '광주'], dtype=object)"
      ]
     },
     "execution_count": 5,
     "metadata": {},
     "output_type": "execute_result"
    }
   ],
   "source": [
    "# 중복을 제거한 데이터만 출력하세요\n",
    "s.unique()"
   ]
  },
  {
   "cell_type": "code",
   "execution_count": 6,
   "id": "16a190b9-5b74-40f0-8313-5e5dc3bbe264",
   "metadata": {},
   "outputs": [
    {
     "data": {
      "text/plain": [
       "서울    3\n",
       "부산    2\n",
       "대구    1\n",
       "광주    1\n",
       "Name: count, dtype: int64"
      ]
     },
     "execution_count": 6,
     "metadata": {},
     "output_type": "execute_result"
    }
   ],
   "source": [
    "# 각 도시가 몇번 나왔는지 출력하세요\n",
    "s.value_counts()"
   ]
  },
  {
   "cell_type": "code",
   "execution_count": null,
   "id": "98cc9829-e96a-4110-a5b6-ced1516a47d1",
   "metadata": {},
   "outputs": [],
   "source": []
  },
  {
   "cell_type": "code",
   "execution_count": 11,
   "id": "442503b1-dbc9-4a02-9846-58ee4f7ff077",
   "metadata": {},
   "outputs": [
    {
     "data": {
      "text/plain": [
       "3"
      ]
     },
     "execution_count": 11,
     "metadata": {},
     "output_type": "execute_result"
    }
   ],
   "source": [
    "# 이름 목록을 시리즈로 만들어주세요\n",
    "# 값은 ['민수','지연','철수','민수','영희','민수','지연']입니다.\n",
    "s = pd.Series(['민수','지연','철수','민수','영희','민수','지연'])\n",
    "s\n",
    "# 가장 많이 나온 이름의 수를 출력하세요\n",
    "s.value_counts().max()"
   ]
  },
  {
   "cell_type": "code",
   "execution_count": null,
   "id": "1cfe43a7-fc11-41c9-8633-66c99062658a",
   "metadata": {},
   "outputs": [],
   "source": [
    "# 판다스듸 Series는 통계함수를 사용할 수 있다\n",
    "# sum mean max min"
   ]
  },
  {
   "cell_type": "code",
   "execution_count": null,
   "id": "61d8d8c2-b072-4350-973c-62eea58d0b9c",
   "metadata": {},
   "outputs": [],
   "source": []
  },
  {
   "cell_type": "code",
   "execution_count": null,
   "id": "66f22af9-3d0a-43fb-89aa-938539df661d",
   "metadata": {},
   "outputs": [],
   "source": []
  },
  {
   "cell_type": "code",
   "execution_count": null,
   "id": "ee726e66-5777-4cab-8ed3-8422d3f00425",
   "metadata": {},
   "outputs": [],
   "source": []
  },
  {
   "cell_type": "code",
   "execution_count": null,
   "id": "87c429dc-5be3-4b5a-8ad9-969bbf6617ff",
   "metadata": {},
   "outputs": [],
   "source": []
  },
  {
   "cell_type": "code",
   "execution_count": null,
   "id": "58bedf89-3086-47b7-9d5a-2b07217995e0",
   "metadata": {},
   "outputs": [],
   "source": []
  },
  {
   "cell_type": "code",
   "execution_count": null,
   "id": "53fca5ad-d829-4fe9-bb1f-797ac3eedf09",
   "metadata": {},
   "outputs": [],
   "source": []
  }
 ],
 "metadata": {
  "kernelspec": {
   "display_name": "Python 3 (ipykernel)",
   "language": "python",
   "name": "python3"
  },
  "language_info": {
   "codemirror_mode": {
    "name": "ipython",
    "version": 3
   },
   "file_extension": ".py",
   "mimetype": "text/x-python",
   "name": "python",
   "nbconvert_exporter": "python",
   "pygments_lexer": "ipython3",
   "version": "3.10.18"
  }
 },
 "nbformat": 4,
 "nbformat_minor": 5
}
