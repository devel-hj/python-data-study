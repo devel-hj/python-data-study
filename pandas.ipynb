{
 "cells": [
  {
   "cell_type": "markdown",
   "id": "15c46019-24b7-433d-a804-494f1e2d0d75",
   "metadata": {},
   "source": [
    "### 판다스 (pandas)\n",
    "데이터를 관리하기 위한 모듈로, 시리즈와 데이터 프레임을 제공함"
   ]
  },
  {
   "cell_type": "code",
   "execution_count": 1,
   "id": "b3b267a4-2dce-44ca-92a7-d02ea1f39511",
   "metadata": {},
   "outputs": [],
   "source": [
    "# 모듈 불러오기\n",
    "# 넘파이 모듈을 np라고 부른다\n",
    "import numpy as np\n",
    "# 판다스 모듈을 pd라고 부른다\n",
    "import pandas as pd"
   ]
  },
  {
   "cell_type": "markdown",
   "id": "034e4413-0d8c-46b1-889a-707aaa6e0873",
   "metadata": {},
   "source": [
    "#### 4.1 시리즈(series)  \n",
    "<small>\n",
    "데이터를 한줄로 담는 자료 구조이다<br>\n",
    "리스트와 다른 점은 데이터에 이름표를 붙일 수 있다(index)\n",
    "</small>"
   ]
  },
  {
   "cell_type": "markdown",
   "id": "82e54b22-6bd7-43b4-8209-f257524441de",
   "metadata": {},
   "source": [
    "시리즈 생성 1"
   ]
  },
  {
   "cell_type": "code",
   "execution_count": 4,
   "id": "639163d2-141a-466a-96ea-f6c2074a6533",
   "metadata": {},
   "outputs": [
    {
     "name": "stdout",
     "output_type": "stream",
     "text": [
      "0    1\n",
      "1    2\n",
      "2    3\n",
      "3    4\n",
      "dtype: int64\n"
     ]
    },
    {
     "data": {
      "text/plain": [
       "RangeIndex(start=0, stop=4, step=1)"
      ]
     },
     "execution_count": 4,
     "metadata": {},
     "output_type": "execute_result"
    }
   ],
   "source": [
    "# 시리즈 생성\n",
    "s = pd.Series( [1,2,3,4] )\n",
    "print(s)\n",
    "# 인덱스가 자동으로 설정됨(0~3)\n",
    "# 시리즈의 인덱스 확인\n",
    "s.index"
   ]
  },
  {
   "cell_type": "markdown",
   "id": "f5d740d5-c850-48c6-beaa-d0fe64e98a2b",
   "metadata": {},
   "source": [
    "#### 4.2 데이터 프레임(DataFrame)\n",
    "<small>\n",
    "    표 형식의 2차원 데이터를 담기 위한 자료 구조\n",
    "    </small>"
   ]
  },
  {
   "cell_type": "markdown",
   "id": "ae83006c-4d83-44fa-b9d0-1098e3c7d7f0",
   "metadata": {},
   "source": [
    "데이터 프레임 생성"
   ]
  },
  {
   "cell_type": "code",
   "execution_count": 7,
   "id": "cab24f22-9c46-40a7-b711-f51282e1adcc",
   "metadata": {},
   "outputs": [
    {
     "name": "stdout",
     "output_type": "stream",
     "text": [
      "RangeIndex(start=0, stop=2, step=1)\n",
      "Index(['city', 'pop'], dtype='object')\n"
     ]
    }
   ],
   "source": [
    "# 도시별 인구 데이터를 담은 데이터 프레임 생성\n",
    "# 데이터 먼저 만들기(dic)\n",
    "data = {'city':['서울', '인천'],\n",
    "       'pop' : [990, 240]}\n",
    "# 데이터 프레임 생성 / city, pop 열 두개를 담고 있는 데이터 프레임\n",
    "df = pd.DataFrame(data)\n",
    "df\n",
    "\n",
    "# 행열의 이름을 따로 설정하지 않으면 자동으로 설정됨\n",
    "print(df.index) # 행 이름 : 0,1\n",
    "print(df.columns) # 열 이름 : dic의 key (city, pop)\n"
   ]
  },
  {
   "cell_type": "markdown",
   "id": "e3bf580f-8927-44cd-8e7e-fac685584878",
   "metadata": {},
   "source": [
    "데이터 프레임 생성 2"
   ]
  },
  {
   "cell_type": "code",
   "execution_count": 33,
   "id": "9e86c623-273a-4a53-9f2f-43722e7bddec",
   "metadata": {},
   "outputs": [
    {
     "data": {
      "text/plain": [
       "Index(['국어', '영어', '수학'], dtype='object')"
      ]
     },
     "execution_count": 33,
     "metadata": {},
     "output_type": "execute_result"
    }
   ],
   "source": [
    "# 학생 성적 데이터 만들기\n",
    "# dic, list\n",
    "# 넘파이의 다차원 배열 사용하여 2차원 배열 생성\n",
    "data = np.array([[60,70,80], [70,80,90], [80,90,100]])\n",
    "data\n",
    "\n",
    "# 성적 데이터를 담아서 데이터 프레임 생성\n",
    "# 이점수가 누구의 어떤 점수인지 알기 위해, 이름표 붙이기\n",
    "# 행 이름 : 학생의 이름\n",
    "# 열 이름 : 과목명\n",
    "df = pd.DataFrame(data, index=['둘리','또치','도우너'], columns=['국어','영어','수학'])\n",
    "# 행 인덱스\n",
    "df.index\n",
    "# 열 컬럼\n",
    "df.columns"
   ]
  },
  {
   "cell_type": "markdown",
   "id": "f79327d5-88ac-465e-9db9-458e20606095",
   "metadata": {},
   "source": [
    "데이터 프레임에서 데이터 꺼내기  \n",
    "<small>\n",
    "    loc : 행열 이름으로 데이터를 꺼낸다<br>\n",
    "    iloc : 행열 위치로 데이터를 꺼낸다<br>\n",
    "    [] : 행열 이름으로 데이터를 꺼낸다<br>\n",
    "    </small>"
   ]
  },
  {
   "cell_type": "code",
   "execution_count": 34,
   "id": "cccd3bec-ffe4-4962-95ab-a7c47769a569",
   "metadata": {},
   "outputs": [
    {
     "name": "stdout",
     "output_type": "stream",
     "text": [
      "     국어  영어   수학\n",
      "둘리   60  70   80\n",
      "또치   70  80   90\n",
      "도우너  80  90  100\n"
     ]
    },
    {
     "data": {
      "text/plain": [
       "np.int64(100)"
      ]
     },
     "execution_count": 34,
     "metadata": {},
     "output_type": "execute_result"
    }
   ],
   "source": [
    "print(df)\n",
    "# loc[행이름, 열이름]\n",
    "df.loc[:,:] # 전체 데이터\n",
    "\n",
    "# 둘리의 국어 점수\n",
    "df.loc['둘리','국어']\n",
    "\n",
    "# 도우너의 수학 점수\n",
    "df.loc['도우너','수학']"
   ]
  },
  {
   "cell_type": "code",
   "execution_count": 35,
   "id": "63a1ef38-5b76-4848-a290-feb1b674583f",
   "metadata": {},
   "outputs": [
    {
     "data": {
      "text/plain": [
       "둘리     70\n",
       "또치     80\n",
       "도우너    90\n",
       "Name: 영어, dtype: int64"
      ]
     },
     "execution_count": 35,
     "metadata": {},
     "output_type": "execute_result"
    }
   ],
   "source": [
    "# 프레임에서 []대괄호를 쓰면, 열만 입력 가능!\n",
    "# [열이름]\n",
    "# 모든 학생의 국어 점수\n",
    "df['국어']\n",
    "# 모든 학생의 영어 점수\n",
    "df['영어']"
   ]
  },
  {
   "cell_type": "markdown",
   "id": "f653e07a-2f17-436b-b907-040fd3bb621c",
   "metadata": {},
   "source": [
    "데이터 프레임에 새로운 열 추가"
   ]
  },
  {
   "cell_type": "code",
   "execution_count": 36,
   "id": "d2c0aa31-e915-4d6c-a649-1db908117e28",
   "metadata": {
    "scrolled": true
   },
   "outputs": [
    {
     "data": {
      "text/html": [
       "<div>\n",
       "<style scoped>\n",
       "    .dataframe tbody tr th:only-of-type {\n",
       "        vertical-align: middle;\n",
       "    }\n",
       "\n",
       "    .dataframe tbody tr th {\n",
       "        vertical-align: top;\n",
       "    }\n",
       "\n",
       "    .dataframe thead th {\n",
       "        text-align: right;\n",
       "    }\n",
       "</style>\n",
       "<table border=\"1\" class=\"dataframe\">\n",
       "  <thead>\n",
       "    <tr style=\"text-align: right;\">\n",
       "      <th></th>\n",
       "      <th>국어</th>\n",
       "      <th>영어</th>\n",
       "      <th>미술</th>\n",
       "      <th>수학</th>\n",
       "    </tr>\n",
       "  </thead>\n",
       "  <tbody>\n",
       "    <tr>\n",
       "      <th>둘리</th>\n",
       "      <td>60</td>\n",
       "      <td>70</td>\n",
       "      <td>70</td>\n",
       "      <td>80</td>\n",
       "    </tr>\n",
       "    <tr>\n",
       "      <th>또치</th>\n",
       "      <td>70</td>\n",
       "      <td>80</td>\n",
       "      <td>80</td>\n",
       "      <td>90</td>\n",
       "    </tr>\n",
       "    <tr>\n",
       "      <th>도우너</th>\n",
       "      <td>80</td>\n",
       "      <td>90</td>\n",
       "      <td>90</td>\n",
       "      <td>100</td>\n",
       "    </tr>\n",
       "  </tbody>\n",
       "</table>\n",
       "</div>"
      ],
      "text/plain": [
       "     국어  영어  미술   수학\n",
       "둘리   60  70  70   80\n",
       "또치   70  80  80   90\n",
       "도우너  80  90  90  100"
      ]
     },
     "execution_count": 36,
     "metadata": {},
     "output_type": "execute_result"
    }
   ],
   "source": [
    "# 새로운 과목 추가\n",
    "# 새로운 열 = 리스트\n",
    "# 맨 뒤에 추가됨\n",
    "# df['과학'] = [60,70,80]\n",
    "# df\n",
    "# 이번에는 2번째 위치에 '미술' 과목을 추가\n",
    "# insert(위치, 컬럼명, 값리스트)\n",
    "df.insert(2, '미술', [70,80,90])\n",
    "df"
   ]
  },
  {
   "cell_type": "markdown",
   "id": "756cee43-2509-40cf-8e21-026c39f29293",
   "metadata": {},
   "source": [
    "데이터 프레임에서 열 삭제  \n",
    "<small>\n",
    "    del : 원본에서 바로 삭제<br>\n",
    "    drop : 원본은 그대로, 결과만 보여줌\n",
    "    </small>"
   ]
  },
  {
   "cell_type": "code",
   "execution_count": 38,
   "id": "af22fb6f-7c44-433c-95e8-8c827bd7f826",
   "metadata": {},
   "outputs": [],
   "source": [
    "# 과학 과목 삭제\n",
    "# del df['과학']\n",
    "# df\n"
   ]
  },
  {
   "cell_type": "code",
   "execution_count": 41,
   "id": "c2eea29e-125d-4661-b67a-b5fac3064833",
   "metadata": {},
   "outputs": [
    {
     "data": {
      "text/html": [
       "<div>\n",
       "<style scoped>\n",
       "    .dataframe tbody tr th:only-of-type {\n",
       "        vertical-align: middle;\n",
       "    }\n",
       "\n",
       "    .dataframe tbody tr th {\n",
       "        vertical-align: top;\n",
       "    }\n",
       "\n",
       "    .dataframe thead th {\n",
       "        text-align: right;\n",
       "    }\n",
       "</style>\n",
       "<table border=\"1\" class=\"dataframe\">\n",
       "  <thead>\n",
       "    <tr style=\"text-align: right;\">\n",
       "      <th></th>\n",
       "      <th>국어</th>\n",
       "      <th>영어</th>\n",
       "      <th>미술</th>\n",
       "      <th>수학</th>\n",
       "    </tr>\n",
       "  </thead>\n",
       "  <tbody>\n",
       "    <tr>\n",
       "      <th>둘리</th>\n",
       "      <td>60</td>\n",
       "      <td>70</td>\n",
       "      <td>70</td>\n",
       "      <td>80</td>\n",
       "    </tr>\n",
       "    <tr>\n",
       "      <th>도우너</th>\n",
       "      <td>80</td>\n",
       "      <td>90</td>\n",
       "      <td>90</td>\n",
       "      <td>100</td>\n",
       "    </tr>\n",
       "  </tbody>\n",
       "</table>\n",
       "</div>"
      ],
      "text/plain": [
       "     국어  영어  미술   수학\n",
       "둘리   60  70  70   80\n",
       "도우너  80  90  90  100"
      ]
     },
     "execution_count": 41,
     "metadata": {},
     "output_type": "execute_result"
    }
   ],
   "source": [
    "# 수학 과목 삭제\n",
    "# drop(형 또는 열의 이름, 방향)\n",
    "# axis = 1 또는 axis='columns'\n",
    "# result = df.drop('수학', axis = 1)\n",
    "# result\n",
    "\n",
    "# 또치 학생 삭제(행 삭제)\n",
    "# axis = 0 또는 axis='row'\n",
    "df = df.drop('또치', axis=0)\n",
    "df"
   ]
  },
  {
   "cell_type": "markdown",
   "id": "2d19b68a-d1d1-41b3-a95b-da0fb0e54021",
   "metadata": {},
   "source": [
    "#### 4.3 데이터 게산과 처리"
   ]
  },
  {
   "cell_type": "markdown",
   "id": "d649849b-981e-4aa3-a45f-7b49677846ef",
   "metadata": {},
   "source": [
    "시리즈에서 계산과 조건 검색"
   ]
  },
  {
   "cell_type": "code",
   "execution_count": 43,
   "id": "c3995913-b935-4738-8402-f098f96b867d",
   "metadata": {},
   "outputs": [
    {
     "data": {
      "text/plain": [
       "0   -1\n",
       "1    0\n",
       "2    1\n",
       "3    2\n",
       "4    3\n",
       "dtype: int64"
      ]
     },
     "execution_count": 43,
     "metadata": {},
     "output_type": "execute_result"
    }
   ],
   "source": [
    "# 숫자가 담긴 시리즈 생성\n",
    "s = pd.Series([-2, -1, 0, 1, 2])\n",
    "# 모든 원소에 1만큼 더하기\n",
    "# 판다스의 시리즈는 for 없이 반복 수행 가능\n",
    "# 아래 계산식은 자동으로 더하기가 6번 반복 수행\n",
    "# s + 1\n",
    "s.add(1)"
   ]
  },
  {
   "cell_type": "code",
   "execution_count": 45,
   "id": "e3df1f35-2d96-46e4-a997-b564660dabd4",
   "metadata": {},
   "outputs": [
    {
     "data": {
      "text/plain": [
       "3    1\n",
       "4    2\n",
       "dtype: int64"
      ]
     },
     "execution_count": 45,
     "metadata": {},
     "output_type": "execute_result"
    }
   ],
   "source": [
    "# 조건 검색( 양수만 찾기 )\n",
    "# 불리언 배열 만들기\n",
    "s > 0\n",
    "# 불리언 배열은 시리즈와 인덱스로 사용할 수 있다\n",
    "# true인 값만 나올\n",
    "s[s>0]"
   ]
  },
  {
   "cell_type": "code",
   "execution_count": 50,
   "id": "2679a875-8d71-472d-b05a-371d746b0c3d",
   "metadata": {},
   "outputs": [
    {
     "data": {
      "text/plain": [
       "1     2\n",
       "3     4\n",
       "5     6\n",
       "7     8\n",
       "9    10\n",
       "dtype: int64"
      ]
     },
     "execution_count": 50,
     "metadata": {},
     "output_type": "execute_result"
    }
   ],
   "source": [
    "# 조건 검색 2 ( 짝수만 찾기 )\n",
    "s = pd.Series(np.arange(1,11))\n",
    "s\n",
    "# 짝수만 찾기\n",
    "s[s%2==0]"
   ]
  },
  {
   "cell_type": "markdown",
   "id": "a907b4b6-6a97-4baa-8d53-8eeae1d467d0",
   "metadata": {},
   "source": [
    "데이터 프레임에서 계산과 처리"
   ]
  },
  {
   "cell_type": "code",
   "execution_count": 57,
   "id": "9cf6c088-0bfd-40b1-8135-e4d33ddda65d",
   "metadata": {},
   "outputs": [
    {
     "data": {
      "text/html": [
       "<div>\n",
       "<style scoped>\n",
       "    .dataframe tbody tr th:only-of-type {\n",
       "        vertical-align: middle;\n",
       "    }\n",
       "\n",
       "    .dataframe tbody tr th {\n",
       "        vertical-align: top;\n",
       "    }\n",
       "\n",
       "    .dataframe thead th {\n",
       "        text-align: right;\n",
       "    }\n",
       "</style>\n",
       "<table border=\"1\" class=\"dataframe\">\n",
       "  <thead>\n",
       "    <tr style=\"text-align: right;\">\n",
       "      <th></th>\n",
       "      <th>국어</th>\n",
       "      <th>영어</th>\n",
       "      <th>수학</th>\n",
       "    </tr>\n",
       "  </thead>\n",
       "  <tbody>\n",
       "    <tr>\n",
       "      <th>둘리</th>\n",
       "      <td>60</td>\n",
       "      <td>70</td>\n",
       "      <td>80</td>\n",
       "    </tr>\n",
       "    <tr>\n",
       "      <th>또치</th>\n",
       "      <td>70</td>\n",
       "      <td>80</td>\n",
       "      <td>90</td>\n",
       "    </tr>\n",
       "    <tr>\n",
       "      <th>도우너</th>\n",
       "      <td>80</td>\n",
       "      <td>90</td>\n",
       "      <td>100</td>\n",
       "    </tr>\n",
       "  </tbody>\n",
       "</table>\n",
       "</div>"
      ],
      "text/plain": [
       "     국어  영어   수학\n",
       "둘리   60  70   80\n",
       "또치   70  80   90\n",
       "도우너  80  90  100"
      ]
     },
     "execution_count": 57,
     "metadata": {},
     "output_type": "execute_result"
    }
   ],
   "source": [
    "# 학생 성적 데이터 만들기\n",
    "data = np.array([ [60,70,80], [70,80,90], [80,90,100] ])\n",
    "# 성적데이터를 담아서 프레임 생성\n",
    "df = pd.DataFrame(data,\n",
    "                 index=['둘리','또치','도우너'],\n",
    "                 columns=['국어','영어','수학'])\n",
    "df"
   ]
  },
  {
   "cell_type": "code",
   "execution_count": 53,
   "id": "a9743d80-2d35-4d45-ac7f-339a2cda8746",
   "metadata": {},
   "outputs": [
    {
     "data": {
      "text/plain": [
       "pandas.core.series.Series"
      ]
     },
     "execution_count": 53,
     "metadata": {},
     "output_type": "execute_result"
    }
   ],
   "source": [
    "# 국어 과목만 조회\n",
    "df['국어']\n",
    "# 국어과목에 담겨있는 값의 자료형\n",
    "df['국어'].dtype\n",
    "# 국어과목의 자료 구조\n",
    "type(df['국어'])"
   ]
  },
  {
   "cell_type": "code",
   "execution_count": 55,
   "id": "916a8334-17de-4f18-9dc6-3f2a2ea682a3",
   "metadata": {},
   "outputs": [
    {
     "data": {
      "text/plain": [
       "둘리     61\n",
       "또치     71\n",
       "도우너    81\n",
       "Name: 국어, dtype: int64"
      ]
     },
     "execution_count": 55,
     "metadata": {},
     "output_type": "execute_result"
    }
   ],
   "source": [
    "# 전체 점수에 1점씩 더하기\n",
    "# 데이터 프레임 전체 데이터에 더하기가 적용됨\n",
    "df + 1\n",
    "# 국어 점수만 10점씩 더하기\n",
    "df['국어'] + 1"
   ]
  },
  {
   "cell_type": "code",
   "execution_count": 56,
   "id": "e6340ea5-ca68-49ed-aa27-61bf3cc408e8",
   "metadata": {},
   "outputs": [
    {
     "data": {
      "text/html": [
       "<div>\n",
       "<style scoped>\n",
       "    .dataframe tbody tr th:only-of-type {\n",
       "        vertical-align: middle;\n",
       "    }\n",
       "\n",
       "    .dataframe tbody tr th {\n",
       "        vertical-align: top;\n",
       "    }\n",
       "\n",
       "    .dataframe thead th {\n",
       "        text-align: right;\n",
       "    }\n",
       "</style>\n",
       "<table border=\"1\" class=\"dataframe\">\n",
       "  <thead>\n",
       "    <tr style=\"text-align: right;\">\n",
       "      <th></th>\n",
       "      <th>국어</th>\n",
       "      <th>영어</th>\n",
       "      <th>수학</th>\n",
       "    </tr>\n",
       "  </thead>\n",
       "  <tbody>\n",
       "    <tr>\n",
       "      <th>또치</th>\n",
       "      <td>70</td>\n",
       "      <td>80</td>\n",
       "      <td>90</td>\n",
       "    </tr>\n",
       "    <tr>\n",
       "      <th>도우너</th>\n",
       "      <td>80</td>\n",
       "      <td>90</td>\n",
       "      <td>100</td>\n",
       "    </tr>\n",
       "  </tbody>\n",
       "</table>\n",
       "</div>"
      ],
      "text/plain": [
       "     국어  영어   수학\n",
       "또치   70  80   90\n",
       "도우너  80  90  100"
      ]
     },
     "execution_count": 56,
     "metadata": {},
     "output_type": "execute_result"
    }
   ],
   "source": [
    "# 조건 검색(국어 점수가 70점 이상인 학생만 찾기)\n",
    "df['국어']>=70\n",
    "# 프레임에 bool 배열을 인덱스로 사용\n",
    "df[df['국어']>=70]"
   ]
  },
  {
   "cell_type": "code",
   "execution_count": null,
   "id": "343bb62f-b8c4-4dfa-9224-bae104607c39",
   "metadata": {},
   "outputs": [],
   "source": []
  },
  {
   "cell_type": "markdown",
   "id": "527bd543-c397-4f50-8ee4-05d4520d39af",
   "metadata": {},
   "source": [
    "데이터프레임의 정렬  \n",
    "<small>\n",
    "    시험 성적 순위를 매길때 사용\n",
    "    </small>"
   ]
  },
  {
   "cell_type": "code",
   "execution_count": 59,
   "id": "ac15fd0d-eb44-4142-a320-32374ec1dfeb",
   "metadata": {},
   "outputs": [
    {
     "data": {
      "text/html": [
       "<div>\n",
       "<style scoped>\n",
       "    .dataframe tbody tr th:only-of-type {\n",
       "        vertical-align: middle;\n",
       "    }\n",
       "\n",
       "    .dataframe tbody tr th {\n",
       "        vertical-align: top;\n",
       "    }\n",
       "\n",
       "    .dataframe thead th {\n",
       "        text-align: right;\n",
       "    }\n",
       "</style>\n",
       "<table border=\"1\" class=\"dataframe\">\n",
       "  <thead>\n",
       "    <tr style=\"text-align: right;\">\n",
       "      <th></th>\n",
       "      <th>국어</th>\n",
       "      <th>영어</th>\n",
       "      <th>수학</th>\n",
       "    </tr>\n",
       "  </thead>\n",
       "  <tbody>\n",
       "    <tr>\n",
       "      <th>둘리</th>\n",
       "      <td>60</td>\n",
       "      <td>70</td>\n",
       "      <td>80</td>\n",
       "    </tr>\n",
       "    <tr>\n",
       "      <th>또치</th>\n",
       "      <td>70</td>\n",
       "      <td>80</td>\n",
       "      <td>90</td>\n",
       "    </tr>\n",
       "    <tr>\n",
       "      <th>도우너</th>\n",
       "      <td>80</td>\n",
       "      <td>90</td>\n",
       "      <td>100</td>\n",
       "    </tr>\n",
       "  </tbody>\n",
       "</table>\n",
       "</div>"
      ],
      "text/plain": [
       "     국어  영어   수학\n",
       "둘리   60  70   80\n",
       "또치   70  80   90\n",
       "도우너  80  90  100"
      ]
     },
     "execution_count": 59,
     "metadata": {},
     "output_type": "execute_result"
    }
   ],
   "source": [
    "# 학생 성적 데이터 초기화\n",
    "data = np.array([ [60,70,80], [70,80,90], [80,90,100] ])\n",
    "# 성적데이터를 담아서 프레임 생성\n",
    "df = pd.DataFrame(data,\n",
    "                 index=['둘리','또치','도우너'],\n",
    "                 columns=['국어','영어','수학'])\n",
    "df"
   ]
  },
  {
   "cell_type": "code",
   "execution_count": 61,
   "id": "97ecb35e-c276-4ca1-9c1e-f173256bf275",
   "metadata": {},
   "outputs": [
    {
     "data": {
      "text/html": [
       "<div>\n",
       "<style scoped>\n",
       "    .dataframe tbody tr th:only-of-type {\n",
       "        vertical-align: middle;\n",
       "    }\n",
       "\n",
       "    .dataframe tbody tr th {\n",
       "        vertical-align: top;\n",
       "    }\n",
       "\n",
       "    .dataframe thead th {\n",
       "        text-align: right;\n",
       "    }\n",
       "</style>\n",
       "<table border=\"1\" class=\"dataframe\">\n",
       "  <thead>\n",
       "    <tr style=\"text-align: right;\">\n",
       "      <th></th>\n",
       "      <th>국어</th>\n",
       "      <th>영어</th>\n",
       "      <th>수학</th>\n",
       "    </tr>\n",
       "  </thead>\n",
       "  <tbody>\n",
       "    <tr>\n",
       "      <th>도우너</th>\n",
       "      <td>80</td>\n",
       "      <td>90</td>\n",
       "      <td>100</td>\n",
       "    </tr>\n",
       "    <tr>\n",
       "      <th>또치</th>\n",
       "      <td>70</td>\n",
       "      <td>80</td>\n",
       "      <td>90</td>\n",
       "    </tr>\n",
       "    <tr>\n",
       "      <th>둘리</th>\n",
       "      <td>60</td>\n",
       "      <td>70</td>\n",
       "      <td>80</td>\n",
       "    </tr>\n",
       "  </tbody>\n",
       "</table>\n",
       "</div>"
      ],
      "text/plain": [
       "     국어  영어   수학\n",
       "도우너  80  90  100\n",
       "또치   70  80   90\n",
       "둘리   60  70   80"
      ]
     },
     "execution_count": 61,
     "metadata": {},
     "output_type": "execute_result"
    }
   ],
   "source": [
    "# 시험 성적에서 국어 점수를 기준으로 정렬\n",
    "df.sort_values('국어')\n",
    "# 국어 점수를 기준으로 내림차순 정렬\n",
    "# 정렬 기준: 오름차순(1->10) / 내림차순(10->1)\n",
    "# ascending : 오름차순(True) 내림차순(False)\n",
    "df.sort_values('국어', ascending=False)"
   ]
  },
  {
   "cell_type": "code",
   "execution_count": 83,
   "id": "45ba00eb-9ce4-4872-8023-8e23a49405f9",
   "metadata": {},
   "outputs": [
    {
     "name": "stdout",
     "output_type": "stream",
     "text": [
      "     수학  영어  과학\n",
      "둘리   86  64  94\n",
      "또치   90  68  90\n",
      "도우너  65  99  70\n"
     ]
    },
    {
     "data": {
      "text/html": [
       "<div>\n",
       "<style scoped>\n",
       "    .dataframe tbody tr th:only-of-type {\n",
       "        vertical-align: middle;\n",
       "    }\n",
       "\n",
       "    .dataframe tbody tr th {\n",
       "        vertical-align: top;\n",
       "    }\n",
       "\n",
       "    .dataframe thead th {\n",
       "        text-align: right;\n",
       "    }\n",
       "</style>\n",
       "<table border=\"1\" class=\"dataframe\">\n",
       "  <thead>\n",
       "    <tr style=\"text-align: right;\">\n",
       "      <th></th>\n",
       "      <th>수학</th>\n",
       "      <th>영어</th>\n",
       "      <th>과학</th>\n",
       "    </tr>\n",
       "  </thead>\n",
       "  <tbody>\n",
       "    <tr>\n",
       "      <th>도우너</th>\n",
       "      <td>65</td>\n",
       "      <td>99</td>\n",
       "      <td>70</td>\n",
       "    </tr>\n",
       "    <tr>\n",
       "      <th>또치</th>\n",
       "      <td>90</td>\n",
       "      <td>68</td>\n",
       "      <td>90</td>\n",
       "    </tr>\n",
       "    <tr>\n",
       "      <th>둘리</th>\n",
       "      <td>86</td>\n",
       "      <td>64</td>\n",
       "      <td>94</td>\n",
       "    </tr>\n",
       "  </tbody>\n",
       "</table>\n",
       "</div>"
      ],
      "text/plain": [
       "     수학  영어  과학\n",
       "도우너  65  99  70\n",
       "또치   90  68  90\n",
       "둘리   86  64  94"
      ]
     },
     "execution_count": 83,
     "metadata": {},
     "output_type": "execute_result"
    }
   ],
   "source": [
    "# 학생 데이터 생성\n",
    "# 랜덤 함수로 시험 점수 생성\n",
    "# 범위 : 60~100점\n",
    "# 개수 : 9개\n",
    "data = np.random.randint(60, 100, 9)\n",
    "# 2차원 배열로변환\n",
    "arr = data.reshape(3, 3)\n",
    "arr\n",
    "# 프레임 생성\n",
    "df = pd.DataFrame(arr,\n",
    "                  index=['둘리','또치','도우너'],\n",
    "                  columns=['수학','영어','과학']\n",
    "                 )\n",
    "print(df)\n",
    "# 영어 점수가 높은 사람 순으로 정렬 (내림차순)\n",
    "df.sort_values('영어', ascending=False)"
   ]
  },
  {
   "cell_type": "markdown",
   "id": "97c84f9c-fccc-417a-a834-69ac36648d70",
   "metadata": {},
   "source": [
    "nan 처리  \n",
    "<small>\n",
    "    누락된값, 빈값  \n",
    "    예를 들어 엑셀에서 빈셀을 표현할 때 사용  \n",
    "    nan은 float타입에서만 표현 가능\n",
    "</small>"
   ]
  },
  {
   "cell_type": "code",
   "execution_count": 84,
   "id": "e7e446d2-0b5d-4149-8e78-a2129d595205",
   "metadata": {},
   "outputs": [
    {
     "data": {
      "text/html": [
       "<div>\n",
       "<style scoped>\n",
       "    .dataframe tbody tr th:only-of-type {\n",
       "        vertical-align: middle;\n",
       "    }\n",
       "\n",
       "    .dataframe tbody tr th {\n",
       "        vertical-align: top;\n",
       "    }\n",
       "\n",
       "    .dataframe thead th {\n",
       "        text-align: right;\n",
       "    }\n",
       "</style>\n",
       "<table border=\"1\" class=\"dataframe\">\n",
       "  <thead>\n",
       "    <tr style=\"text-align: right;\">\n",
       "      <th></th>\n",
       "      <th>수학</th>\n",
       "      <th>영어</th>\n",
       "      <th>과학</th>\n",
       "    </tr>\n",
       "  </thead>\n",
       "  <tbody>\n",
       "    <tr>\n",
       "      <th>둘리</th>\n",
       "      <td>86</td>\n",
       "      <td>64</td>\n",
       "      <td>94</td>\n",
       "    </tr>\n",
       "    <tr>\n",
       "      <th>또치</th>\n",
       "      <td>90</td>\n",
       "      <td>68</td>\n",
       "      <td>90</td>\n",
       "    </tr>\n",
       "    <tr>\n",
       "      <th>도우너</th>\n",
       "      <td>65</td>\n",
       "      <td>99</td>\n",
       "      <td>70</td>\n",
       "    </tr>\n",
       "  </tbody>\n",
       "</table>\n",
       "</div>"
      ],
      "text/plain": [
       "     수학  영어  과학\n",
       "둘리   86  64  94\n",
       "또치   90  68  90\n",
       "도우너  65  99  70"
      ]
     },
     "execution_count": 84,
     "metadata": {},
     "output_type": "execute_result"
    }
   ],
   "source": [
    "df"
   ]
  },
  {
   "cell_type": "code",
   "execution_count": 86,
   "id": "7d6ce0aa-f0ef-4876-a346-fbdd02ba6d5c",
   "metadata": {},
   "outputs": [
    {
     "data": {
      "text/html": [
       "<div>\n",
       "<style scoped>\n",
       "    .dataframe tbody tr th:only-of-type {\n",
       "        vertical-align: middle;\n",
       "    }\n",
       "\n",
       "    .dataframe tbody tr th {\n",
       "        vertical-align: top;\n",
       "    }\n",
       "\n",
       "    .dataframe thead th {\n",
       "        text-align: right;\n",
       "    }\n",
       "</style>\n",
       "<table border=\"1\" class=\"dataframe\">\n",
       "  <thead>\n",
       "    <tr style=\"text-align: right;\">\n",
       "      <th></th>\n",
       "      <th>수학</th>\n",
       "      <th>영어</th>\n",
       "      <th>과학</th>\n",
       "    </tr>\n",
       "  </thead>\n",
       "  <tbody>\n",
       "    <tr>\n",
       "      <th>둘리</th>\n",
       "      <td>86</td>\n",
       "      <td>NaN</td>\n",
       "      <td>94</td>\n",
       "    </tr>\n",
       "    <tr>\n",
       "      <th>또치</th>\n",
       "      <td>90</td>\n",
       "      <td>68.0</td>\n",
       "      <td>90</td>\n",
       "    </tr>\n",
       "    <tr>\n",
       "      <th>도우너</th>\n",
       "      <td>65</td>\n",
       "      <td>99.0</td>\n",
       "      <td>70</td>\n",
       "    </tr>\n",
       "  </tbody>\n",
       "</table>\n",
       "</div>"
      ],
      "text/plain": [
       "     수학    영어  과학\n",
       "둘리   86   NaN  94\n",
       "또치   90  68.0  90\n",
       "도우너  65  99.0  70"
      ]
     },
     "execution_count": 86,
     "metadata": {},
     "output_type": "execute_result"
    }
   ],
   "source": [
    "# 둘리의 영어점수를 빈값(nan)으로 표시\n",
    "# 빈값을 넣으면 해당 값이 들어간 열리 float 타입으로 자동 형변환됨\n",
    "# df.loc['둘리','영어'] = np.nan\n",
    "# df['영어'].dtype\n",
    "df"
   ]
  },
  {
   "cell_type": "code",
   "execution_count": 87,
   "id": "052c1e50-5a2b-4a8d-aeae-5c9e1715c99e",
   "metadata": {},
   "outputs": [
    {
     "data": {
      "text/html": [
       "<div>\n",
       "<style scoped>\n",
       "    .dataframe tbody tr th:only-of-type {\n",
       "        vertical-align: middle;\n",
       "    }\n",
       "\n",
       "    .dataframe tbody tr th {\n",
       "        vertical-align: top;\n",
       "    }\n",
       "\n",
       "    .dataframe thead th {\n",
       "        text-align: right;\n",
       "    }\n",
       "</style>\n",
       "<table border=\"1\" class=\"dataframe\">\n",
       "  <thead>\n",
       "    <tr style=\"text-align: right;\">\n",
       "      <th></th>\n",
       "      <th>수학</th>\n",
       "      <th>영어</th>\n",
       "      <th>과학</th>\n",
       "    </tr>\n",
       "  </thead>\n",
       "  <tbody>\n",
       "    <tr>\n",
       "      <th>또치</th>\n",
       "      <td>90</td>\n",
       "      <td>68.0</td>\n",
       "      <td>90</td>\n",
       "    </tr>\n",
       "    <tr>\n",
       "      <th>도우너</th>\n",
       "      <td>65</td>\n",
       "      <td>99.0</td>\n",
       "      <td>70</td>\n",
       "    </tr>\n",
       "  </tbody>\n",
       "</table>\n",
       "</div>"
      ],
      "text/plain": [
       "     수학    영어  과학\n",
       "또치   90  68.0  90\n",
       "도우너  65  99.0  70"
      ]
     },
     "execution_count": 87,
     "metadata": {},
     "output_type": "execute_result"
    }
   ],
   "source": [
    "# 빈값이 있는 행 또는 열 삭제\n",
    "# 엑시스 0 'row' => 행\n",
    "# 삭제를 반영하기 위해서, 결과를 df에 덮어씌우기!\n",
    "df = df.dropna(axis=0)\n",
    "df"
   ]
  },
  {
   "cell_type": "code",
   "execution_count": 88,
   "id": "e29fe2a4-6d73-4282-8dbd-4e7ce46cb4af",
   "metadata": {},
   "outputs": [
    {
     "data": {
      "text/html": [
       "<div>\n",
       "<style scoped>\n",
       "    .dataframe tbody tr th:only-of-type {\n",
       "        vertical-align: middle;\n",
       "    }\n",
       "\n",
       "    .dataframe tbody tr th {\n",
       "        vertical-align: top;\n",
       "    }\n",
       "\n",
       "    .dataframe thead th {\n",
       "        text-align: right;\n",
       "    }\n",
       "</style>\n",
       "<table border=\"1\" class=\"dataframe\">\n",
       "  <thead>\n",
       "    <tr style=\"text-align: right;\">\n",
       "      <th></th>\n",
       "      <th>수학</th>\n",
       "      <th>영어</th>\n",
       "      <th>과학</th>\n",
       "    </tr>\n",
       "  </thead>\n",
       "  <tbody>\n",
       "    <tr>\n",
       "      <th>또치</th>\n",
       "      <td>90</td>\n",
       "      <td>68.0</td>\n",
       "      <td>NaN</td>\n",
       "    </tr>\n",
       "    <tr>\n",
       "      <th>도우너</th>\n",
       "      <td>65</td>\n",
       "      <td>99.0</td>\n",
       "      <td>70.0</td>\n",
       "    </tr>\n",
       "  </tbody>\n",
       "</table>\n",
       "</div>"
      ],
      "text/plain": [
       "     수학    영어    과학\n",
       "또치   90  68.0   NaN\n",
       "도우너  65  99.0  70.0"
      ]
     },
     "execution_count": 88,
     "metadata": {},
     "output_type": "execute_result"
    }
   ],
   "source": [
    "# 또치의 과학 점수를 빈값으로 설정\n",
    "df.loc['또치','과학']=np.nan\n",
    "df"
   ]
  },
  {
   "cell_type": "code",
   "execution_count": 89,
   "id": "d2712f4e-ff46-4cb7-a6a8-a7b19cd8306b",
   "metadata": {},
   "outputs": [
    {
     "data": {
      "text/html": [
       "<div>\n",
       "<style scoped>\n",
       "    .dataframe tbody tr th:only-of-type {\n",
       "        vertical-align: middle;\n",
       "    }\n",
       "\n",
       "    .dataframe tbody tr th {\n",
       "        vertical-align: top;\n",
       "    }\n",
       "\n",
       "    .dataframe thead th {\n",
       "        text-align: right;\n",
       "    }\n",
       "</style>\n",
       "<table border=\"1\" class=\"dataframe\">\n",
       "  <thead>\n",
       "    <tr style=\"text-align: right;\">\n",
       "      <th></th>\n",
       "      <th>수학</th>\n",
       "      <th>영어</th>\n",
       "      <th>과학</th>\n",
       "    </tr>\n",
       "  </thead>\n",
       "  <tbody>\n",
       "    <tr>\n",
       "      <th>또치</th>\n",
       "      <td>90</td>\n",
       "      <td>68.0</td>\n",
       "      <td>0.0</td>\n",
       "    </tr>\n",
       "    <tr>\n",
       "      <th>도우너</th>\n",
       "      <td>65</td>\n",
       "      <td>99.0</td>\n",
       "      <td>70.0</td>\n",
       "    </tr>\n",
       "  </tbody>\n",
       "</table>\n",
       "</div>"
      ],
      "text/plain": [
       "     수학    영어    과학\n",
       "또치   90  68.0   0.0\n",
       "도우너  65  99.0  70.0"
      ]
     },
     "execution_count": 89,
     "metadata": {},
     "output_type": "execute_result"
    }
   ],
   "source": [
    "df.fillna(0)"
   ]
  },
  {
   "cell_type": "markdown",
   "id": "c31bc386-0ca9-4e35-b5f9-61157856e665",
   "metadata": {},
   "source": [
    "#### 4.4 데이터 탐색  \n",
    "<small>\n",
    "    데이터의 상태나 특징을 파악하는 작업\n",
    "</small>"
   ]
  },
  {
   "cell_type": "code",
   "execution_count": 2,
   "id": "27515b6b-c088-461b-bc1f-03924a3fe162",
   "metadata": {},
   "outputs": [
    {
     "data": {
      "text/plain": [
       "0     사과\n",
       "1      배\n",
       "2     사과\n",
       "3      배\n",
       "4    바나나\n",
       "dtype: object"
      ]
     },
     "execution_count": 2,
     "metadata": {},
     "output_type": "execute_result"
    }
   ],
   "source": [
    "# 과일 목록을 담은 시리즈 생성\n",
    "s = pd.Series(['사과','배','사과','배','바나나'])\n",
    "s"
   ]
  },
  {
   "cell_type": "code",
   "execution_count": 3,
   "id": "19504845-c626-430c-8e0d-8625f275e6c4",
   "metadata": {},
   "outputs": [
    {
     "data": {
      "text/plain": [
       "array(['사과', '배', '바나나'], dtype=object)"
      ]
     },
     "execution_count": 3,
     "metadata": {},
     "output_type": "execute_result"
    }
   ],
   "source": [
    "# 중복을 제거하고 유니크한 값만 남기기\n",
    "s.unique()"
   ]
  },
  {
   "cell_type": "code",
   "execution_count": 4,
   "id": "f35093a5-671d-49fe-8439-b656c64a130d",
   "metadata": {},
   "outputs": [
    {
     "data": {
      "text/plain": [
       "사과     2\n",
       "배      2\n",
       "바나나    1\n",
       "Name: count, dtype: int64"
      ]
     },
     "execution_count": 4,
     "metadata": {},
     "output_type": "execute_result"
    }
   ],
   "source": [
    "# 원소별 개수 세기\n",
    "s.value_counts()"
   ]
  },
  {
   "cell_type": "code",
   "execution_count": null,
   "id": "16f1e85b-6923-4d71-885a-d262deece513",
   "metadata": {},
   "outputs": [],
   "source": []
  },
  {
   "cell_type": "code",
   "execution_count": null,
   "id": "aabaefd8-1c78-4def-b2f0-20bac9c1a1c1",
   "metadata": {},
   "outputs": [],
   "source": []
  },
  {
   "cell_type": "code",
   "execution_count": null,
   "id": "37e015e2-4949-4442-a16d-5ef6576177f4",
   "metadata": {},
   "outputs": [],
   "source": []
  },
  {
   "cell_type": "code",
   "execution_count": null,
   "id": "9f67bcfd-cca1-464a-be1c-cb35d454cdea",
   "metadata": {},
   "outputs": [],
   "source": []
  },
  {
   "cell_type": "code",
   "execution_count": null,
   "id": "eb944e23-b7e0-4c98-9212-8bdf88b5e6a0",
   "metadata": {},
   "outputs": [],
   "source": []
  },
  {
   "cell_type": "code",
   "execution_count": null,
   "id": "ddf9c2b5-6ca3-44e0-8d00-dc861a0e85ce",
   "metadata": {},
   "outputs": [],
   "source": []
  },
  {
   "cell_type": "code",
   "execution_count": null,
   "id": "e0ace7e8-db3e-4d4a-92a3-1c46981c70a7",
   "metadata": {},
   "outputs": [],
   "source": []
  },
  {
   "cell_type": "code",
   "execution_count": null,
   "id": "e6df8af0-e190-4e44-bc3c-8b25e52a62a5",
   "metadata": {},
   "outputs": [],
   "source": []
  },
  {
   "cell_type": "code",
   "execution_count": null,
   "id": "4e02c3d9-544a-4838-a78c-6aac9282504f",
   "metadata": {},
   "outputs": [],
   "source": []
  }
 ],
 "metadata": {
  "kernelspec": {
   "display_name": "Python 3 (ipykernel)",
   "language": "python",
   "name": "python3"
  },
  "language_info": {
   "codemirror_mode": {
    "name": "ipython",
    "version": 3
   },
   "file_extension": ".py",
   "mimetype": "text/x-python",
   "name": "python",
   "nbconvert_exporter": "python",
   "pygments_lexer": "ipython3",
   "version": "3.10.18"
  }
 },
 "nbformat": 4,
 "nbformat_minor": 5
}
